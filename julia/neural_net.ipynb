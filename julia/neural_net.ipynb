{
 "cells": [
  {
   "cell_type": "code",
   "execution_count": 1,
   "metadata": {},
   "outputs": [
    {
     "data": {
      "text/html": [
       "<div id=\"interact-js-shim\">\n",
       "    <script charset=\"utf-8\">\n",
       "(function (IPython, $, _, MathJax) {\n",
       "    $.event.special.destroyed = {\n",
       "\tremove: function(o) {\n",
       "\t    if (o.handler) {\n",
       "\t\to.handler.apply(this, arguments)\n",
       "\t    }\n",
       "\t}\n",
       "    }\n",
       "\n",
       "    var OutputArea = IPython.version >= \"4.0.0\" ? require(\"notebook/js/outputarea\").OutputArea : IPython.OutputArea;\n",
       "\n",
       "    var redrawValue = function (container, type, val) {\n",
       "\tvar selector = $(\"<div/>\");\n",
       "\tvar oa = new OutputArea(_.extend(selector, {\n",
       "\t    selector: selector,\n",
       "\t    prompt_area: true,\n",
       "\t    events: IPython.events,\n",
       "\t    keyboard_manager: IPython.keyboard_manager\n",
       "\t})); // Hack to work with IPython 2.1.0\n",
       "\n",
       "\tswitch (type) {\n",
       "\tcase \"image/png\":\n",
       "            var _src = 'data:' + type + ';base64,' + val;\n",
       "\t    $(container).find(\"img\").attr('src', _src);\n",
       "\t    break;\n",
       "\tcase \"text/latex\":\n",
       "\t\tif (MathJax){\n",
       "\t\t\tvar math = MathJax.Hub.getAllJax(container)[0];\n",
       "\t\t\tMathJax.Hub.Queue([\"Text\", math, val.replace(/^\\${1,2}|\\${1,2}$/g, '')]);\n",
       "\t\t\tbreak;\n",
       "\t\t}\n",
       "\tdefault:\n",
       "\t    var toinsert = OutputArea.append_map[type].apply(\n",
       "\t\toa, [val, {}, selector]\n",
       "\t    );\n",
       "\t    $(container).empty().append(toinsert.contents());\n",
       "\t    selector.remove();\n",
       "\t}\n",
       "    }\n",
       "\n",
       "\n",
       "    $(document).ready(function() {\n",
       "\tfunction initComm(evt, data) {\n",
       "\t    var comm_manager = data.kernel.comm_manager;\n",
       "        //_.extend(comm_manager.targets, require(\"widgets/js/widget\"))\n",
       "\t    comm_manager.register_target(\"Signal\", function (comm) {\n",
       "            comm.on_msg(function (msg) {\n",
       "                var val = msg.content.data.value;\n",
       "                $(\".signal-\" + comm.comm_id).each(function() {\n",
       "                var type = $(this).data(\"type\");\n",
       "                if (typeof(val[type]) !== \"undefined\" && val[type] !== null) {\n",
       "                    redrawValue(this, type, val[type], type);\n",
       "                }\n",
       "                });\n",
       "                delete val;\n",
       "                delete msg.content.data.value;\n",
       "            });\n",
       "\t    });\n",
       "\n",
       "\t    // coordingate with Comm and redraw Signals\n",
       "\t    // XXX: Test using Reactive here to improve performance\n",
       "\t    $([IPython.events]).on(\n",
       "\t\t'output_appended.OutputArea', function (event, type, value, md, toinsert) {\n",
       "\t\t    if (md && md.reactive) {\n",
       "                // console.log(md.comm_id);\n",
       "                toinsert.addClass(\"signal-\" + md.comm_id);\n",
       "                toinsert.data(\"type\", type);\n",
       "                // Signal back indicating the mimetype required\n",
       "                var comm_manager = IPython.notebook.kernel.comm_manager;\n",
       "                var comm = comm_manager.comms[md.comm_id];\n",
       "                comm.then(function (c) {\n",
       "                    c.send({action: \"subscribe_mime\",\n",
       "                       mime: type});\n",
       "                    toinsert.bind(\"destroyed\", function() {\n",
       "                        c.send({action: \"unsubscribe_mime\",\n",
       "                               mime: type});\n",
       "                    });\n",
       "                })\n",
       "\t\t    }\n",
       "\t    });\n",
       "\t}\n",
       "\n",
       "\ttry {\n",
       "\t    // try to initialize right away. otherwise, wait on the status_started event.\n",
       "\t    initComm(undefined, IPython.notebook);\n",
       "\t} catch (e) {\n",
       "\t    $([IPython.events]).on('kernel_created.Kernel kernel_created.Session', initComm);\n",
       "\t}\n",
       "    });\n",
       "})(IPython, jQuery, _, MathJax);\n",
       "</script>\n",
       "    <script>\n",
       "        window.interactLoadedFlag = true\n",
       "       $(\"#interact-js-shim\").bind(\"destroyed\", function () {\n",
       "           if (window.interactLoadedFlag) {\n",
       "               console.warn(\"JavaScript required by Interact will be removed if you remove this cell or run using Interact more than once.\")\n",
       "           }\n",
       "       })\n",
       "       $([IPython.events]).on(\"kernel_starting.Kernel kernel_restarting.Kernel\", function () { window.interactLoadedFlag = false })\n",
       "   </script>\n",
       "</div>"
      ]
     },
     "metadata": {},
     "output_type": "display_data"
    }
   ],
   "source": [
    "using Knet,Compat,Interact,Plots;\n",
    "include(\"../julia/format_data.jl\");"
   ]
  },
  {
   "cell_type": "code",
   "execution_count": 66,
   "metadata": {
    "collapsed": true
   },
   "outputs": [],
   "source": [
    "# file, training_proportion, num_input_stops, stops_ahead_to_predict, stops_to_predict\n",
    "routes = get_routes(\"../python/full_routes.mat\",0.8,10,1,2);\n",
    "\n",
    "x_train  = routes[\"train_input_data\"];\n",
    "y_train = routes[\"train_output_data\"];\n",
    "x_test = routes[\"test_input_data\"];\n",
    "y_test = routes[\"test_output_data\"];\n",
    "\n"
   ]
  },
  {
   "cell_type": "code",
   "execution_count": 67,
   "metadata": {},
   "outputs": [
    {
     "data": {
      "text/plain": [
       "((10, 149), (2, 149))"
      ]
     },
     "execution_count": 67,
     "metadata": {},
     "output_type": "execute_result"
    }
   ],
   "source": [
    "x_train = (x_train .- mean(x_train,2))./std(x_train,2);\n",
    "x_test = (x_test .- mean(x_test,2))./std(x_test,2);\n",
    "size(x_test),size(y_test)\n",
    "size(x_train),size(y_train)"
   ]
  },
  {
   "cell_type": "code",
   "execution_count": 68,
   "metadata": {},
   "outputs": [
    {
     "data": {
      "text/plain": [
       "accuracy (generic function with 2 methods)"
      ]
     },
     "execution_count": 68,
     "metadata": {},
     "output_type": "execute_result"
    }
   ],
   "source": [
    "function predict(w,x)\n",
    "    for i=1:2:length(w)\n",
    "        # w is a vector of weight matrices\n",
    "        x = w[i]*x .+ w[i+1]\n",
    "        if i<length(w)-1\n",
    "            # Apply ReLU nonlinearity\n",
    "            x = max.(0,x)\n",
    "        end\n",
    "    end\n",
    "    return x\n",
    "end\n",
    "\n",
    "loss(w,x,y)=0.5*(sum((y-predict(w,x)).^2) / size(x,2))\n",
    "\n",
    "lossgradient = grad(loss);\n",
    "\n",
    "function train(w, dtrn; lr=.5, epochs=10)\n",
    "    for epoch=1:epochs\n",
    "        for (x,y) in dtrn\n",
    "            g = lossgradient(w, x, y)\n",
    "            for i in 1:length(w)\n",
    "                axpy!(-lr, g[i], w[i])\n",
    "            end\n",
    "        end\n",
    "    end\n",
    "    return w\n",
    "end\n",
    "\n",
    "function weights(h)\n",
    "    w = Any[]\n",
    "    x = size(x_train)[1]\n",
    "    for y in vcat(h,size(y_train)[1])\n",
    "        push!(w,0.1*randn(y,x))\n",
    "        push!(w, zeros(y, 1))\n",
    "        x = y\n",
    "    end\n",
    "    return w\n",
    "end\n",
    "\n",
    "\n",
    "function accuracy(w, dtst, pred=predict)\n",
    "    s = 0\n",
    "    n = 0\n",
    "    s_resid = 0\n",
    "    yvar = var(y_test)\n",
    "    for (x, ygold) in dtst\n",
    "        ypred = pred(w, x)\n",
    "        s+= (ypred - ygold).^2\n",
    "        n+=1\n",
    "    end\n",
    "    s_tot =yvar*n\n",
    "    return (sqrt.(s/n),1-(s/s_tot))\n",
    "end"
   ]
  },
  {
   "cell_type": "code",
   "execution_count": null,
   "metadata": {
    "collapsed": true
   },
   "outputs": [],
   "source": [
    "function main()\n",
    "    hidden_layer_sizes = [100,10]\n",
    "    w = weights(hidden_layer_sizes)\n",
    "    dtrn = zip([x_train[:,i] for i in 1:size(x_train,2)],y_train)\n",
    "    dtst = zip([x_test[:,i] for i in 1:size(x_test,2)],y_test)\n",
    "    report(epoch)=println((epoch,\"Train MAE: \",accuracy(w,dtrn),\"Test MAE: \",accuracy(w,dtst)))\n",
    "    report(0)\n",
    "    epochs = 1000\n",
    "    learning_rate = 0.0001\n",
    "    @time for epoch=1:epochs\n",
    "        train(w, dtrn; lr=learning_rate, epochs=1)\n",
    "        report(epoch)\n",
    "#       gradcheck(loss, w, first(dtrn)...; gcheck=o[:gcheck], verbose=true)\n",
    "    end\n",
    "    return w\n",
    "end\n",
    "\n",
    "main();"
   ]
  },
  {
   "cell_type": "code",
   "execution_count": 33,
   "metadata": {
    "scrolled": true
   },
   "outputs": [
    {
     "data": {
      "application/vnd.jupyter.widget-view+json": {
       "model_id": "3adc3568-4431-4d10-ae50-abcfa9a309ab",
       "version_major": 2,
       "version_minor": 0
      }
     },
     "metadata": {},
     "output_type": "display_data"
    },
    {
     "data": {
      "text/html": [],
      "text/plain": [
       "Interact.Options{:SelectionSlider,Int64}(47: \"input-13\" = 5 Int64 , \"i\", 5, \"5\", 5, Interact.OptionDict(DataStructures.OrderedDict(\"1\"=>1,\"2\"=>2,\"3\"=>3,\"4\"=>4,\"5\"=>5,\"6\"=>6,\"7\"=>7,\"8\"=>8,\"9\"=>9,\"10\"=>10…), Dict(7=>\"7\",4=>\"4\",9=>\"9\",10=>\"10\",2=>\"2\",3=>\"3\",5=>\"5\",8=>\"8\",6=>\"6\",1=>\"1\"…)), Any[], Any[], true, \"horizontal\")"
      ]
     },
     "metadata": {},
     "output_type": "display_data"
    },
    {
     "data": {
      "text/html": [
       "<img src=\"data:image/png;base64,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\" />"
      ]
     },
     "execution_count": 33,
     "metadata": {
      "comm_id": "572cef30-8344-4e75-8f53-0b77b6031a6e",
      "reactive": true
     },
     "output_type": "execute_result"
    }
   ],
   "source": [
    "# Plot the trajectory\n",
    "@manipulate for i = 1:10\n",
    "plot(cumsum(x_train[:,i]))\n",
    "end\n"
   ]
  },
  {
   "cell_type": "code",
   "execution_count": 34,
   "metadata": {},
   "outputs": [
    {
     "data": {
      "text/plain": [
       "1×1 Array{Float64,2}:\n",
       " -0.00855506"
      ]
     },
     "execution_count": 34,
     "metadata": {},
     "output_type": "execute_result"
    }
   ],
   "source": [
    "hidden_layer_sizes = [20,10,1]\n",
    "w1 = weights(hidden_layer_sizes)\n",
    "x = [1 2 3 4 5 6 7 8 9 10]\n",
    "predict(w1,x')"
   ]
  },
  {
   "cell_type": "code",
   "execution_count": 26,
   "metadata": {},
   "outputs": [
    {
     "data": {
      "application/vnd.jupyter.widget-view+json": {
       "model_id": "9a47170a-ece3-4ffb-9bee-3d5337b4a6d1",
       "version_major": 2,
       "version_minor": 0
      }
     },
     "metadata": {},
     "output_type": "display_data"
    },
    {
     "data": {
      "text/html": [],
      "text/plain": [
       "Interact.Options{:SelectionSlider,Int64}(21: \"input-6\" = 5 Int64 , \"i\", 5, \"5\", 5, Interact.OptionDict(DataStructures.OrderedDict(\"1\"=>1,\"2\"=>2,\"3\"=>3,\"4\"=>4,\"5\"=>5,\"6\"=>6,\"7\"=>7,\"8\"=>8,\"9\"=>9,\"10\"=>10…), Dict(7=>\"7\",4=>\"4\",9=>\"9\",10=>\"10\",2=>\"2\",3=>\"3\",5=>\"5\",8=>\"8\",6=>\"6\",1=>\"1\"…)), Any[], Any[], true, \"horizontal\")"
      ]
     },
     "metadata": {},
     "output_type": "display_data"
    },
    {
     "data": {
      "text/html": [
       "<img src=\"data:image/png;base64,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\" />"
      ]
     },
     "execution_count": 26,
     "metadata": {
      "comm_id": "4edc2f03-b065-452a-8161-b8da91b3d902",
      "reactive": true
     },
     "output_type": "execute_result"
    }
   ],
   "source": [
    "@manipulate for i = 1:10\n",
    "histogram(x_train[i,:])\n",
    "end"
   ]
  },
  {
   "cell_type": "code",
   "execution_count": 24,
   "metadata": {},
   "outputs": [
    {
     "data": {
      "text/html": [
       "<img src=\"data:image/png;base64,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\" />"
      ]
     },
     "execution_count": 24,
     "metadata": {},
     "output_type": "execute_result"
    }
   ],
   "source": [
    "histogram(y_train')\n",
    "# mean(y_train)\n",
    "# sqrt(var(y_train))"
   ]
  },
  {
   "cell_type": "code",
   "execution_count": null,
   "metadata": {
    "collapsed": true
   },
   "outputs": [],
   "source": [
    "# https://arxiv.org/pdf/1407.5949.pdf\n",
    "function lstm(weight,bias,hidden,cell,input)\n",
    "    gates   = hcat(input,hidden) * weight .+ bias\n",
    "    hsize   = size(hidden,2)\n",
    "    forget  = sigm(gates[:,1:hsize])\n",
    "    ingate  = sigm(gates[:,1+hsize:2hsize])\n",
    "    outgate = sigm(gates[:,1+2hsize:3hsize])\n",
    "    change  = tanh(gates[:,1+3hsize:end])\n",
    "    cell    = cell .* forget + ingate .* change\n",
    "    hidden  = outgate .* tanh(cell)\n",
    "    return (hidden,cell)\n",
    "end\n",
    "\n",
    "function initmodel(atype, hidden, vocab, embed)\n",
    "    init(d...)=atype(xavier(d...))\n",
    "    \n",
    "    bias(d...)=atype(zeros(d...))\n",
    "    model = Array(Any, 2*length(hidden)+3)\n",
    "    X = embed\n",
    "    for k = 1:length(hidden)\n",
    "        H = hidden[k]\n",
    "        model[2k-1] = init(X+H, 4H)\n",
    "        model[2k] = bias(1, 4H)\n",
    "        model[2k][1:H] = 1 # forget gate bias = 1\n",
    "        X = H\n",
    "    end\n",
    "    model[end-2] = init(vocab,embed)\n",
    "    model[end-1] = init(hidden[end],vocab)\n",
    "    model[end] = bias(1,vocab)\n",
    "    return model\n",
    "end\n",
    "\n",
    "let blank = nothing; global initstate\n",
    "function initstate(model, batch)\n",
    "    nlayers = div(length(model)-3,2)\n",
    "    state = Array(Any, 2*nlayers)\n",
    "    for k = 1:nlayers\n",
    "        bias = model[2k]\n",
    "        hidden = div(length(bias),4)\n",
    "        if typeof(blank)!=typeof(bias) || size(blank)!=(batch,hidden)\n",
    "            blank = fill!(similar(bias, batch, hidden),0)\n",
    "        end\n",
    "        state[2k-1] = state[2k] = blank\n",
    "    end\n",
    "    return state\n",
    "end\n",
    "end\n",
    "\n",
    "function predict(model, state, input; pdrop=0)\n",
    "    nlayers = div(length(model)-3,2)\n",
    "    newstate = similar(state)\n",
    "    for k = 1:nlayers\n",
    "        input = dropout(input, pdrop)\n",
    "        \n",
    "        (newstate[2k-1],newstate[2k]) = lstm(model[2k-1],model[2k],state[2k-1],state[2k],input)\n",
    "        input = newstate[2k-1]\n",
    "    end\n",
    "    return input,newstate\n",
    "end"
   ]
  },
  {
   "cell_type": "code",
   "execution_count": null,
   "metadata": {
    "collapsed": true
   },
   "outputs": [],
   "source": []
  },
  {
   "cell_type": "code",
   "execution_count": null,
   "metadata": {
    "collapsed": true
   },
   "outputs": [],
   "source": []
  }
 ],
 "metadata": {
  "kernelspec": {
   "display_name": "Julia 0.6.0",
   "language": "julia",
   "name": "julia-0.6"
  },
  "language_info": {
   "file_extension": ".jl",
   "mimetype": "application/julia",
   "name": "julia",
   "version": "0.6.0"
  }
 },
 "nbformat": 4,
 "nbformat_minor": 2
}
