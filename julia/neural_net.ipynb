{
 "cells": [
  {
   "cell_type": "code",
   "execution_count": 34,
   "metadata": {},
   "outputs": [
    {
     "name": "stdout",
     "output_type": "stream",
     "text": [
      "9\n",
      "2\n",
      "(133, 321)\n",
      "(2, 321)\n"
     ]
    }
   ],
   "source": [
    "using Knet,Compat,Interact,Plots;\n",
    "include(\"../julia/test_train_split.jl\");"
   ]
  },
  {
   "cell_type": "code",
   "execution_count": 50,
   "metadata": {},
   "outputs": [
    {
     "name": "stdout",
     "output_type": "stream",
     "text": [
      "9\n",
      "1\n",
      "(133, 323)\n",
      "(1, 323)\n"
     ]
    }
   ],
   "source": [
    "# file, training_proportion, num_input_stops, stops_ahead_to_predict, stops_to_predict\n",
    "#routes = get_routes(\"/Users/Cooper/Desktop/mbta_trajectories_2014_13.json\",0.6,9,0,1,[],false);\n",
    "routes = get_routes(\"/Users/Cooper/Desktop/mbta_trajectories_2014_13.json\",0.6,9,0,1,[\"day_of_week\",\"bus_id\",\"hour\"],true);\n",
    "# routes = get_routes(\"../python/full_routes.mat\",0.8,10,1,2);\n",
    "\n",
    "x_train  = routes[\"train_input_data\"];\n",
    "y_train = routes[\"train_output_data\"];\n",
    "x_test = routes[\"test_input_data\"];\n",
    "y_test = routes[\"test_output_data\"];\n"
   ]
  },
  {
   "cell_type": "code",
   "execution_count": 19,
   "metadata": {},
   "outputs": [
    {
     "data": {
      "text/plain": [
       "((133, 257), (2, 257))"
      ]
     },
     "execution_count": 19,
     "metadata": {},
     "output_type": "execute_result"
    }
   ],
   "source": []
  },
  {
   "cell_type": "code",
   "execution_count": 27,
   "metadata": {},
   "outputs": [
    {
     "data": {
      "text/plain": [
       "accuracy (generic function with 2 methods)"
      ]
     },
     "execution_count": 27,
     "metadata": {},
     "output_type": "execute_result"
    }
   ],
   "source": [
    "function predict(w,x)\n",
    "    for i=1:2:length(w)\n",
    "        # w is a vector of weight matrices\n",
    "        x = w[i]*x .+ w[i+1]\n",
    "        if i<length(w)-1\n",
    "            # Apply ReLU nonlinearity\n",
    "            x = max.(0,x)\n",
    "        end\n",
    "    end\n",
    "    return x\n",
    "end\n",
    "\n",
    "loss(w,x,y)=0.5*(sum((y-predict(w,x)).^2) / size(x,2))\n",
    "\n",
    "lossgradient = grad(loss);\n",
    "\n",
    "function train(w, dtrn; lr=.5, epochs=10)\n",
    "    for epoch=1:epochs\n",
    "        for (x,y) in dtrn\n",
    "            g = lossgradient(w, x, y)\n",
    "            for i in 1:length(w)\n",
    "                axpy!(-lr, g[i], w[i])\n",
    "            end\n",
    "        end\n",
    "    end\n",
    "    return w\n",
    "end\n",
    "\n",
    "function weights(h)\n",
    "    w = Any[]\n",
    "    x = size(x_train)[1]\n",
    "    for y in vcat(h,size(y_train)[1])\n",
    "        push!(w,0.1*randn(y,x))\n",
    "        push!(w, zeros(y, 1))\n",
    "        x = y\n",
    "    end\n",
    "    return w\n",
    "end\n",
    "\n",
    "\n",
    "function accuracy(w, dtst, pred=predict)\n",
    "    s = 0\n",
    "    n = 0\n",
    "    s_resid = 0\n",
    "    yvar = var(y_test)\n",
    "    for (x, ygold) in dtst\n",
    "        ypred = pred(w, x)\n",
    "        s+= (ypred - ygold).^2\n",
    "        n+=1\n",
    "    end\n",
    "    s_tot =yvar*n\n",
    "    return (sqrt.(s/n),1-(s/s_tot))\n",
    "end"
   ]
  },
  {
   "cell_type": "code",
   "execution_count": 52,
   "metadata": {},
   "outputs": [
    {
     "name": "stdout",
     "output_type": "stream",
     "text": [
      "(0, \"Train MAE: \", ([94.0486], [-2.08987]), \"Test MAE: \", ([98.9706], [-2.42175]))\n",
      "(1, \"Train MAE: \", ([93.8299], [-2.07552]), \"Test MAE: \", ([98.7472], [-2.40632]))\n",
      "(2, \"Train MAE: \", ([93.5941], [-2.06008]), \"Test MAE: \", ([98.5089], [-2.3899]))\n",
      "(3, \"Train MAE: \", ([93.3056], [-2.04125]), \"Test MAE: \", ([98.2195], [-2.37002]))\n",
      "(4, \"Train MAE: \", ([92.9092], [-2.01546]), \"Test MAE: \", ([97.8221], [-2.3428]))\n",
      "(5, \"Train MAE: \", ([92.2908], [-1.97545]), \"Test MAE: \", ([97.2016], [-2.30053]))\n",
      "(6, \"Train MAE: \", ([91.2344], [-1.90773]), \"Test MAE: \", ([96.1427], [-2.22901]))\n",
      "(7, \"Train MAE: \", ([89.2566], [-1.78302]), \"Test MAE: \", ([94.1645], [-2.0975]))\n",
      "(8, \"Train MAE: \", ([85.1467], [-1.53263]), \"Test MAE: \", ([90.0681], [-1.83386]))\n",
      "(9, \"Train MAE: \", ([76.1053], [-1.02332]), \"Test MAE: \", ([81.0663], [-1.29571]))\n",
      "(10, \"Train MAE: \", ([60.2323], [-0.267345]), \"Test MAE: \", ([65.1119], [-0.481006]))\n",
      "(11, \"Train MAE: \", ([50.0393], [0.125301]), \"Test MAE: \", ([54.3002], [-0.0300023]))\n",
      "(12, \"Train MAE: \", ([47.9818], [0.195753]), \"Test MAE: \", ([52.2965], [0.044609]))\n",
      "(13, \"Train MAE: \", ([47.221], [0.221057]), \"Test MAE: \", ([52.0114], [0.0549952]))\n",
      "(14, \"Train MAE: \", ([46.6474], [0.239863]), \"Test MAE: \", ([51.9137], [0.0585434]))\n",
      "(15, \"Train MAE: \", ([46.1285], [0.256682]), \"Test MAE: \", ([51.7951], [0.0628411]))\n",
      "(16, \"Train MAE: \", ([45.6426], [0.27226]), \"Test MAE: \", ([51.6472], [0.068184]))\n",
      "(17, \"Train MAE: \", ([45.1892], [0.286646]), \"Test MAE: \", ([51.5282], [0.0724757]))\n",
      "(18, \"Train MAE: \", ([44.7568], [0.300231]), \"Test MAE: \", ([51.3925], [0.0773514]))\n",
      "(19, \"Train MAE: \", ([44.3487], [0.312934]), \"Test MAE: \", ([51.2986], [0.0807205]))\n",
      "(20, \"Train MAE: \", ([43.9608], [0.324902]), \"Test MAE: \", ([51.1674], [0.0854183]))\n",
      "(21, \"Train MAE: \", ([43.5837], [0.336433]), \"Test MAE: \", ([51.0711], [0.0888559]))\n",
      "(22, \"Train MAE: \", ([43.2192], [0.347485]), \"Test MAE: \", ([50.9637], [0.0926862]))\n",
      "(23, \"Train MAE: \", ([42.8569], [0.35838]), \"Test MAE: \", ([50.8611], [0.0963337]))\n",
      "(24, \"Train MAE: \", ([42.4999], [0.369026]), \"Test MAE: \", ([50.7455], [0.100437]))\n",
      "(25, \"Train MAE: \", ([42.1529], [0.379286]), \"Test MAE: \", ([50.6853], [0.102573]))\n",
      "(26, \"Train MAE: \", ([41.8126], [0.38927]), \"Test MAE: \", ([50.6091], [0.105268]))\n",
      "(27, \"Train MAE: \", ([41.4721], [0.399175]), \"Test MAE: \", ([50.5579], [0.107076]))\n",
      "(28, \"Train MAE: \", ([41.1352], [0.408898]), \"Test MAE: \", ([50.5235], [0.108292]))\n",
      "(29, \"Train MAE: \", ([40.791], [0.418747]), \"Test MAE: \", ([50.4414], [0.111186]))\n",
      "(30, \"Train MAE: \", ([40.4507], [0.428404]), \"Test MAE: \", ([50.4109], [0.112263]))\n",
      "(31, \"Train MAE: \", ([40.1178], [0.437776]), \"Test MAE: \", ([50.3661], [0.113838]))\n",
      "(32, \"Train MAE: \", ([39.7791], [0.447229]), \"Test MAE: \", ([50.341], [0.114722]))\n",
      "(33, \"Train MAE: \", ([39.4341], [0.456774]), \"Test MAE: \", ([50.3275], [0.115197]))\n",
      "(34, \"Train MAE: \", ([39.1016], [0.465896]), \"Test MAE: \", ([50.315], [0.115634]))\n",
      "(35, \"Train MAE: \", ([38.7445], [0.475606]), \"Test MAE: \", ([50.3047], [0.115998]))\n",
      "(36, \"Train MAE: \", ([38.3958], [0.485005]), \"Test MAE: \", ([50.3168], [0.115573]))\n",
      "(37, \"Train MAE: \", ([38.0368], [0.494591]), \"Test MAE: \", ([50.3127], [0.115715]))\n",
      "(38, \"Train MAE: \", ([37.6908], [0.503743]), \"Test MAE: \", ([50.3064], [0.115938]))\n",
      "(39, \"Train MAE: \", ([37.3321], [0.513143]), \"Test MAE: \", ([50.3415], [0.114705]))\n",
      "(40, \"Train MAE: \", ([36.972], [0.52249]), \"Test MAE: \", ([50.3374], [0.114848]))\n",
      "(41, \"Train MAE: \", ([36.5835], [0.532473]), \"Test MAE: \", ([50.3209], [0.115428]))\n",
      "(42, \"Train MAE: \", ([36.2221], [0.541666]), \"Test MAE: \", ([50.3698], [0.113709]))\n",
      "(43, \"Train MAE: \", ([35.836], [0.551383]), \"Test MAE: \", ([50.4354], [0.111398]))\n",
      "(44, \"Train MAE: \", ([35.4513], [0.560963]), \"Test MAE: \", ([50.5018], [0.109058]))\n",
      "(45, \"Train MAE: \", ([35.0548], [0.57073]), \"Test MAE: \", ([50.5266], [0.108183]))\n",
      "(46, \"Train MAE: \", ([34.6653], [0.580217]), \"Test MAE: \", ([50.5845], [0.106137]))\n",
      "(47, \"Train MAE: \", ([34.2746], [0.589625]), \"Test MAE: \", ([50.6545], [0.103661]))\n",
      "(48, \"Train MAE: \", ([33.8577], [0.599547]), \"Test MAE: \", ([50.7128], [0.101596]))\n",
      "(49, \"Train MAE: \", ([33.4788], [0.60846]), \"Test MAE: \", ([50.7579], [0.0999998]))\n",
      "(50, \"Train MAE: \", ([33.0522], [0.618376]), \"Test MAE: \", ([50.8378], [0.0971636]))\n",
      "(51, \"Train MAE: \", ([32.6397], [0.627841]), \"Test MAE: \", ([50.955], [0.0929933]))\n",
      "(52, \"Train MAE: \", ([32.2314], [0.637094]), \"Test MAE: \", ([51.0078], [0.091116]))\n",
      "(53, \"Train MAE: \", ([31.8191], [0.64632]), \"Test MAE: \", ([51.1216], [0.0870542]))\n",
      "(54, \"Train MAE: \", ([31.3756], [0.65611]), \"Test MAE: \", ([51.201], [0.0842164]))\n",
      "(55, \"Train MAE: \", ([30.9632], [0.665091]), \"Test MAE: \", ([51.326], [0.0797396]))\n",
      "(56, \"Train MAE: \", ([30.5311], [0.674372]), \"Test MAE: \", ([51.4299], [0.0760089]))\n",
      "(57, \"Train MAE: \", ([30.0914], [0.683684]), \"Test MAE: \", ([51.5121], [0.0730537]))\n",
      "(58, \"Train MAE: \", ([29.6506], [0.692883]), \"Test MAE: \", ([51.6322], [0.0687278]))\n",
      "(59, \"Train MAE: \", ([29.2069], [0.702006]), \"Test MAE: \", ([51.7105], [0.0659008]))\n",
      "(60, \"Train MAE: \", ([28.7715], [0.710826]), \"Test MAE: \", ([51.8706], [0.0601047]))\n",
      "(61, \"Train MAE: \", ([28.3165], [0.719898]), \"Test MAE: \", ([51.9988], [0.0554535]))\n",
      "(62, \"Train MAE: \", ([27.8713], [0.728636]), \"Test MAE: \", ([52.1413], [0.0502718]))\n",
      "(63, \"Train MAE: \", ([27.4256], [0.737247]), \"Test MAE: \", ([52.2295], [0.0470545]))\n",
      "(64, \"Train MAE: \", ([26.9449], [0.746376]), \"Test MAE: \", ([52.3638], [0.0421491]))\n",
      "(65, \"Train MAE: \", ([26.4898], [0.754873]), \"Test MAE: \", ([52.4639], [0.0384827]))\n",
      "(66, \"Train MAE: \", ([26.0436], [0.763059]), \"Test MAE: \", ([52.5685], [0.0346433]))\n",
      "(67, \"Train MAE: \", ([25.6059], [0.770958]), \"Test MAE: \", ([52.6741], [0.0307612]))\n",
      "(68, \"Train MAE: \", ([25.1092], [0.779758]), \"Test MAE: \", ([52.8302], [0.0250089]))\n",
      "(69, \"Train MAE: \", ([24.6177], [0.788295]), \"Test MAE: \", ([52.9649], [0.020029]))\n",
      "(70, \"Train MAE: \", ([24.1622], [0.796057]), \"Test MAE: \", ([53.1073], [0.0147546]))\n",
      "(71, \"Train MAE: \", ([23.6978], [0.80382]), \"Test MAE: \", ([53.1514], [0.0131156]))\n",
      "(72, \"Train MAE: \", ([23.2473], [0.811208]), \"Test MAE: \", ([53.2459], [0.00960611]))\n",
      "(73, \"Train MAE: \", ([22.8308], [0.817913]), \"Test MAE: \", ([53.3582], [0.00542367]))\n",
      "(74, \"Train MAE: \", ([22.3406], [0.825648]), \"Test MAE: \", ([53.5442], [-0.00152323]))\n",
      "(75, \"Train MAE: \", ([21.868], [0.832948]), \"Test MAE: \", ([53.6156], [-0.00419603]))\n",
      "(76, \"Train MAE: \", ([21.4246], [0.839653]), \"Test MAE: \", ([53.7338], [-0.00862776]))\n",
      "(77, \"Train MAE: \", ([20.9648], [0.846461]), \"Test MAE: \", ([53.8611], [-0.0134136]))\n",
      "(78, \"Train MAE: \", ([20.5071], [0.853093]), \"Test MAE: \", ([53.8985], [-0.0148198]))\n",
      "(79, \"Train MAE: \", ([20.0672], [0.859328]), \"Test MAE: \", ([54.0786], [-0.0216141]))\n",
      "(80, \"Train MAE: \", ([19.6126], [0.865629]), \"Test MAE: \", ([54.1862], [-0.0256828]))\n",
      "(81, \"Train MAE: \", ([19.1733], [0.871581]), \"Test MAE: \", ([54.1873], [-0.0257263]))\n",
      "(82, \"Train MAE: \", ([18.7814], [0.876777]), \"Test MAE: \", ([54.2755], [-0.0290687]))\n",
      "(83, \"Train MAE: \", ([18.3126], [0.882852]), \"Test MAE: \", ([54.3872], [-0.0333057]))\n",
      "(84, \"Train MAE: \", ([17.9171], [0.887858]), \"Test MAE: \", ([54.467], [-0.0363409]))\n",
      "(85, \"Train MAE: \", ([17.4654], [0.89344]), \"Test MAE: \", ([54.5085], [-0.0379219]))\n",
      "(86, \"Train MAE: \", ([17.0873], [0.898003]), \"Test MAE: \", ([54.5907], [-0.0410542]))\n",
      "(87, \"Train MAE: \", ([16.6606], [0.903035]), \"Test MAE: \", ([54.7441], [-0.0469133]))\n",
      "(88, \"Train MAE: \", ([16.2811], [0.907401]), \"Test MAE: \", ([54.7189], [-0.0459511]))\n",
      "(89, \"Train MAE: \", ([15.8725], [0.911991]), \"Test MAE: \", ([54.8748], [-0.0519196]))\n",
      "(90, \"Train MAE: \", ([15.4537], [0.916574]), \"Test MAE: \", ([54.9259], [-0.0538778]))\n",
      "(91, \"Train MAE: \", ([15.069], [0.920676]), \"Test MAE: \", ([55.01], [-0.0571064]))\n",
      "(92, \"Train MAE: \", ([14.68], [0.924719]), \"Test MAE: \", ([55.0384], [-0.0582018]))\n",
      "(93, \"Train MAE: \", ([14.3101], [0.928464]), \"Test MAE: \", ([55.1721], [-0.0633486]))\n",
      "(94, \"Train MAE: \", ([13.9228], [0.932285]), \"Test MAE: \", ([55.1987], [-0.0643725]))\n",
      "(95, \"Train MAE: \", ([13.5424], [0.935934]), \"Test MAE: \", ([55.2599], [-0.0667356]))\n",
      "(96, \"Train MAE: \", ([13.1965], [0.939165]), \"Test MAE: \", ([55.2729], [-0.0672347]))\n"
     ]
    },
    {
     "name": "stdout",
     "output_type": "stream",
     "text": [
      "(97, \"Train MAE: \", ([12.8858], [0.941996]), \"Test MAE: \", ([55.4154], [-0.0727465]))\n",
      "(98, \"Train MAE: \", ([12.5151], [0.945285]), \"Test MAE: \", ([55.3698], [-0.0709823]))\n",
      "(99, \"Train MAE: \", ([12.1903], [0.948089]), \"Test MAE: \", ([55.453], [-0.0742011]))\n",
      "(100, \"Train MAE: \", ([11.8589], [0.950872]), \"Test MAE: \", ([55.5496], [-0.0779491]))\n",
      " 25.790214 seconds (25.20 M allocations: 3.669 GiB, 5.61% gc time)\n"
     ]
    }
   ],
   "source": [
    "function main()\n",
    "    hidden_layer_sizes = [100,20]\n",
    "    w = weights(hidden_layer_sizes)\n",
    "    dtrn = zip([x_train[:,i] for i in 1:size(x_train,2)],y_train)\n",
    "    dtst = zip([x_test[:,i] for i in 1:size(x_test,2)],y_test)\n",
    "    report(epoch)=println((epoch,\"Train MAE: \",accuracy(w,dtrn),\"Test MAE: \",accuracy(w,dtst)))\n",
    "    report(0)\n",
    "    epochs = 100\n",
    "    learning_rate = 0.00001\n",
    "    @time for epoch=1:epochs\n",
    "        train(w, dtrn; lr=learning_rate, epochs=1)\n",
    "        report(epoch)\n",
    "#       gradcheck(loss, w, first(dtrn)...; gcheck=o[:gcheck], verbose=true)\n",
    "    end\n",
    "    return w\n",
    "end\n",
    "\n",
    "main();"
   ]
  },
  {
   "cell_type": "code",
   "execution_count": 29,
   "metadata": {},
   "outputs": [
    {
     "data": {
      "text/plain": [
       "9-element Array{Float64,1}:\n",
       " -0.488935\n",
       " -0.445184\n",
       " -0.858851\n",
       "  1.05806 \n",
       "  0.270311\n",
       "  0.889696\n",
       "  1.78471 \n",
       " -0.943823\n",
       "  0.656983"
      ]
     },
     "execution_count": 29,
     "metadata": {},
     "output_type": "execute_result"
    }
   ],
   "source": [
    "x_train[:,2]"
   ]
  },
  {
   "cell_type": "code",
   "execution_count": 29,
   "metadata": {
    "scrolled": true
   },
   "outputs": [
    {
     "data": {
      "application/vnd.jupyter.widget-view+json": {
       "model_id": "9aa4ba16-dd55-43a8-b636-e7a183595812",
       "version_major": 2,
       "version_minor": 0
      }
     },
     "metadata": {},
     "output_type": "display_data"
    },
    {
     "data": {
      "text/html": [],
      "text/plain": [
       "Interact.Options{:SelectionSlider,Int64}(9: \"input-3\" = 5 Int64 , \"i\", 5, \"5\", 5, Interact.OptionDict(DataStructures.OrderedDict(\"1\"=>1,\"2\"=>2,\"3\"=>3,\"4\"=>4,\"5\"=>5,\"6\"=>6,\"7\"=>7,\"8\"=>8,\"9\"=>9,\"10\"=>10…), Dict(7=>\"7\",4=>\"4\",9=>\"9\",10=>\"10\",2=>\"2\",3=>\"3\",5=>\"5\",8=>\"8\",6=>\"6\",1=>\"1\"…)), Any[], Any[], true, \"horizontal\")"
      ]
     },
     "metadata": {},
     "output_type": "display_data"
    },
    {
     "data": {
      "text/html": [
       "<img src=\"data:image/png;base64,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\" />"
      ]
     },
     "execution_count": 29,
     "metadata": {
      "comm_id": "a37c3ef2-93be-4d92-afae-1ce93cc26658",
      "reactive": true
     },
     "output_type": "execute_result"
    }
   ],
   "source": [
    "# Plot the trajectory\n",
    "@manipulate for i = 1:10\n",
    "plot(cumsum(x_train[:,i]))\n",
    "end\n"
   ]
  },
  {
   "cell_type": "code",
   "execution_count": 34,
   "metadata": {},
   "outputs": [
    {
     "data": {
      "text/plain": [
       "1×1 Array{Float64,2}:\n",
       " -0.00855506"
      ]
     },
     "execution_count": 34,
     "metadata": {},
     "output_type": "execute_result"
    }
   ],
   "source": [
    "hidden_layer_sizes = [20,10,1]\n",
    "w1 = weights(hidden_layer_sizes)\n",
    "x = [1 2 3 4 5 6 7 8 9 10]\n",
    "predict(w1,x')"
   ]
  },
  {
   "cell_type": "code",
   "execution_count": 49,
   "metadata": {},
   "outputs": [
    {
     "ename": "LoadError",
     "evalue": "\u001b[91mBoundsError: attempt to access 9×194 Array{Float64,2} at index [15, Base.Slice(Base.OneTo(194))]\u001b[39m",
     "output_type": "error",
     "traceback": [
      "\u001b[91mBoundsError: attempt to access 9×194 Array{Float64,2} at index [15, Base.Slice(Base.OneTo(194))]\u001b[39m",
      "",
      "Stacktrace:",
      " [1] \u001b[1mthrow_boundserror\u001b[22m\u001b[22m\u001b[1m(\u001b[22m\u001b[22m::Array{Float64,2}, ::Tuple{Int64,Base.Slice{Base.OneTo{Int64}}}\u001b[1m)\u001b[22m\u001b[22m at \u001b[1m./abstractarray.jl:433\u001b[22m\u001b[22m",
      " [2] \u001b[1mcheckbounds\u001b[22m\u001b[22m at \u001b[1m./abstractarray.jl:362\u001b[22m\u001b[22m [inlined]",
      " [3] \u001b[1mmacro expansion\u001b[22m\u001b[22m at \u001b[1m./multidimensional.jl:441\u001b[22m\u001b[22m [inlined]",
      " [4] \u001b[1m_getindex\u001b[22m\u001b[22m at \u001b[1m./multidimensional.jl:438\u001b[22m\u001b[22m [inlined]",
      " [5] \u001b[1mgetindex\u001b[22m\u001b[22m\u001b[1m(\u001b[22m\u001b[22m::Array{Float64,2}, ::Int64, ::Colon\u001b[1m)\u001b[22m\u001b[22m at \u001b[1m./abstractarray.jl:882\u001b[22m\u001b[22m",
      " [6] \u001b[1minclude_string\u001b[22m\u001b[22m\u001b[1m(\u001b[22m\u001b[22m::String, ::String\u001b[1m)\u001b[22m\u001b[22m at \u001b[1m./loading.jl:515\u001b[22m\u001b[22m"
     ]
    }
   ],
   "source": [
    "histogram(x_train[15,:])"
   ]
  },
  {
   "cell_type": "code",
   "execution_count": null,
   "metadata": {
    "collapsed": true
   },
   "outputs": [],
   "source": [
    "histogram(y_train')\n",
    "# mean(y_train)\n",
    "# sqrt(var(y_train))"
   ]
  },
  {
   "cell_type": "code",
   "execution_count": null,
   "metadata": {
    "collapsed": true
   },
   "outputs": [],
   "source": [
    "# https://arxiv.org/pdf/1407.5949.pdf\n",
    "function lstm(weight,bias,hidden,cell,input)\n",
    "    gates   = hcat(input,hidden) * weight .+ bias\n",
    "    hsize   = size(hidden,2)\n",
    "    forget  = sigm(gates[:,1:hsize])\n",
    "    ingate  = sigm(gates[:,1+hsize:2hsize])\n",
    "    outgate = sigm(gates[:,1+2hsize:3hsize])\n",
    "    change  = tanh(gates[:,1+3hsize:end])\n",
    "    cell    = cell .* forget + ingate .* change\n",
    "    hidden  = outgate .* tanh(cell)\n",
    "    return (hidden,cell)\n",
    "end\n",
    "\n",
    "function initmodel(atype, hidden, vocab, embed)\n",
    "    init(d...)=atype(xavier(d...))\n",
    "    \n",
    "    bias(d...)=atype(zeros(d...))\n",
    "    model = Array(Any, 2*length(hidden)+3)\n",
    "    X = embed\n",
    "    for k = 1:length(hidden)\n",
    "        H = hidden[k]\n",
    "        model[2k-1] = init(X+H, 4H)\n",
    "        model[2k] = bias(1, 4H)\n",
    "        model[2k][1:H] = 1 # forget gate bias = 1\n",
    "        X = H\n",
    "    end\n",
    "    model[end-2] = init(vocab,embed)\n",
    "    model[end-1] = init(hidden[end],vocab)\n",
    "    model[end] = bias(1,vocab)\n",
    "    return model\n",
    "end\n",
    "\n",
    "let blank = nothing; global initstate\n",
    "function initstate(model, batch)\n",
    "    nlayers = div(length(model)-3,2)\n",
    "    state = Array(Any, 2*nlayers)\n",
    "    for k = 1:nlayers\n",
    "        bias = model[2k]\n",
    "        hidden = div(length(bias),4)\n",
    "        if typeof(blank)!=typeof(bias) || size(blank)!=(batch,hidden)\n",
    "            blank = fill!(similar(bias, batch, hidden),0)\n",
    "        end\n",
    "        state[2k-1] = state[2k] = blank\n",
    "    end\n",
    "    return state\n",
    "end\n",
    "end\n",
    "\n",
    "function predict(model, state, input; pdrop=0)\n",
    "    nlayers = div(length(model)-3,2)\n",
    "    newstate = similar(state)\n",
    "    for k = 1:nlayers\n",
    "        input = dropout(input, pdrop)\n",
    "        \n",
    "        (newstate[2k-1],newstate[2k]) = lstm(model[2k-1],model[2k],state[2k-1],state[2k],input)\n",
    "        input = newstate[2k-1]\n",
    "    end\n",
    "    return input,newstate\n",
    "end"
   ]
  },
  {
   "cell_type": "code",
   "execution_count": null,
   "metadata": {
    "collapsed": true
   },
   "outputs": [],
   "source": []
  },
  {
   "cell_type": "code",
   "execution_count": null,
   "metadata": {
    "collapsed": true
   },
   "outputs": [],
   "source": []
  }
 ],
 "metadata": {
  "kernelspec": {
   "display_name": "Julia 0.6.0",
   "language": "julia",
   "name": "julia-0.6"
  },
  "language_info": {
   "file_extension": ".jl",
   "mimetype": "application/julia",
   "name": "julia",
   "version": "0.6.0"
  }
 },
 "nbformat": 4,
 "nbformat_minor": 2
}
