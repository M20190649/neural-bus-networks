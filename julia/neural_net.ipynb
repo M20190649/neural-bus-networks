{
 "cells": [
  {
   "cell_type": "code",
   "execution_count": 1,
   "metadata": {},
   "outputs": [
    {
     "data": {
      "text/html": [
       "<div id=\"interact-js-shim\">\n",
       "    <script charset=\"utf-8\">\n",
       "(function (IPython, $, _, MathJax) {\n",
       "    $.event.special.destroyed = {\n",
       "\tremove: function(o) {\n",
       "\t    if (o.handler) {\n",
       "\t\to.handler.apply(this, arguments)\n",
       "\t    }\n",
       "\t}\n",
       "    }\n",
       "\n",
       "    var OutputArea = IPython.version >= \"4.0.0\" ? require(\"notebook/js/outputarea\").OutputArea : IPython.OutputArea;\n",
       "\n",
       "    var redrawValue = function (container, type, val) {\n",
       "\tvar selector = $(\"<div/>\");\n",
       "\tvar oa = new OutputArea(_.extend(selector, {\n",
       "\t    selector: selector,\n",
       "\t    prompt_area: true,\n",
       "\t    events: IPython.events,\n",
       "\t    keyboard_manager: IPython.keyboard_manager\n",
       "\t})); // Hack to work with IPython 2.1.0\n",
       "\n",
       "\tswitch (type) {\n",
       "\tcase \"image/png\":\n",
       "            var _src = 'data:' + type + ';base64,' + val;\n",
       "\t    $(container).find(\"img\").attr('src', _src);\n",
       "\t    break;\n",
       "\tcase \"text/latex\":\n",
       "\t\tif (MathJax){\n",
       "\t\t\tvar math = MathJax.Hub.getAllJax(container)[0];\n",
       "\t\t\tMathJax.Hub.Queue([\"Text\", math, val.replace(/^\\${1,2}|\\${1,2}$/g, '')]);\n",
       "\t\t\tbreak;\n",
       "\t\t}\n",
       "\tdefault:\n",
       "\t    var toinsert = OutputArea.append_map[type].apply(\n",
       "\t\toa, [val, {}, selector]\n",
       "\t    );\n",
       "\t    $(container).empty().append(toinsert.contents());\n",
       "\t    selector.remove();\n",
       "\t}\n",
       "    }\n",
       "\n",
       "\n",
       "    $(document).ready(function() {\n",
       "\tfunction initComm(evt, data) {\n",
       "\t    var comm_manager = data.kernel.comm_manager;\n",
       "        //_.extend(comm_manager.targets, require(\"widgets/js/widget\"))\n",
       "\t    comm_manager.register_target(\"Signal\", function (comm) {\n",
       "            comm.on_msg(function (msg) {\n",
       "                var val = msg.content.data.value;\n",
       "                $(\".signal-\" + comm.comm_id).each(function() {\n",
       "                var type = $(this).data(\"type\");\n",
       "                if (typeof(val[type]) !== \"undefined\" && val[type] !== null) {\n",
       "                    redrawValue(this, type, val[type], type);\n",
       "                }\n",
       "                });\n",
       "                delete val;\n",
       "                delete msg.content.data.value;\n",
       "            });\n",
       "\t    });\n",
       "\n",
       "\t    // coordingate with Comm and redraw Signals\n",
       "\t    // XXX: Test using Reactive here to improve performance\n",
       "\t    $([IPython.events]).on(\n",
       "\t\t'output_appended.OutputArea', function (event, type, value, md, toinsert) {\n",
       "\t\t    if (md && md.reactive) {\n",
       "                // console.log(md.comm_id);\n",
       "                toinsert.addClass(\"signal-\" + md.comm_id);\n",
       "                toinsert.data(\"type\", type);\n",
       "                // Signal back indicating the mimetype required\n",
       "                var comm_manager = IPython.notebook.kernel.comm_manager;\n",
       "                var comm = comm_manager.comms[md.comm_id];\n",
       "                comm.then(function (c) {\n",
       "                    c.send({action: \"subscribe_mime\",\n",
       "                       mime: type});\n",
       "                    toinsert.bind(\"destroyed\", function() {\n",
       "                        c.send({action: \"unsubscribe_mime\",\n",
       "                               mime: type});\n",
       "                    });\n",
       "                })\n",
       "\t\t    }\n",
       "\t    });\n",
       "\t}\n",
       "\n",
       "\ttry {\n",
       "\t    // try to initialize right away. otherwise, wait on the status_started event.\n",
       "\t    initComm(undefined, IPython.notebook);\n",
       "\t} catch (e) {\n",
       "\t    $([IPython.events]).on('kernel_created.Kernel kernel_created.Session', initComm);\n",
       "\t}\n",
       "    });\n",
       "})(IPython, jQuery, _, MathJax);\n",
       "</script>\n",
       "    <script>\n",
       "        window.interactLoadedFlag = true\n",
       "       $(\"#interact-js-shim\").bind(\"destroyed\", function () {\n",
       "           if (window.interactLoadedFlag) {\n",
       "               console.warn(\"JavaScript required by Interact will be removed if you remove this cell or run using Interact more than once.\")\n",
       "           }\n",
       "       })\n",
       "       $([IPython.events]).on(\"kernel_starting.Kernel kernel_restarting.Kernel\", function () { window.interactLoadedFlag = false })\n",
       "   </script>\n",
       "</div>"
      ]
     },
     "metadata": {},
     "output_type": "display_data"
    }
   ],
   "source": [
    "using Knet,Compat,Interact,Plots;\n",
    "include(\"../julia/format_data.jl\");"
   ]
  },
  {
   "cell_type": "code",
   "execution_count": 27,
   "metadata": {},
   "outputs": [
    {
     "name": "stdout",
     "output_type": "stream",
     "text": [
      "String[\"stop_name\", \"time\", \"stop_idx\", \"vehicle_idx\", \"schedule_code\"]"
     ]
    }
   ],
   "source": [
    "# file, training_proportion, num_input_stops, stops_ahead_to_predict, stops_to_predict\n",
    "routes = get_routes(\"/Volumes/Infinity/mbta/h5/2013/mbta_trajectories_2013_48.mat\",0.8,12,1,2);\n",
    "# routes = get_routes(\"../python/full_routes.mat\",0.8,10,1,2);\n",
    "\n",
    "x_train  = routes[\"train_input_data\"];\n",
    "y_train = routes[\"train_output_data\"];\n",
    "x_test = routes[\"test_input_data\"];\n",
    "y_test = routes[\"test_output_data\"];\n"
   ]
  },
  {
   "cell_type": "code",
   "execution_count": 22,
   "metadata": {},
   "outputs": [
    {
     "data": {
      "text/plain": [
       "((8, 7091), (1, 7091))"
      ]
     },
     "execution_count": 22,
     "metadata": {},
     "output_type": "execute_result"
    }
   ],
   "source": [
    "x_train = (x_train .- mean(x_train,2))./std(x_train,2);\n",
    "x_test = (x_test .- mean(x_test,2))./std(x_test,2);\n",
    "size(x_test),size(y_test)\n",
    "size(x_train),size(y_train)"
   ]
  },
  {
   "cell_type": "code",
   "execution_count": 23,
   "metadata": {},
   "outputs": [
    {
     "data": {
      "text/plain": [
       "accuracy (generic function with 2 methods)"
      ]
     },
     "execution_count": 23,
     "metadata": {},
     "output_type": "execute_result"
    }
   ],
   "source": [
    "function predict(w,x)\n",
    "    for i=1:2:length(w)\n",
    "        # w is a vector of weight matrices\n",
    "        x = w[i]*x .+ w[i+1]\n",
    "        if i<length(w)-1\n",
    "            # Apply ReLU nonlinearity\n",
    "            x = max.(0,x)\n",
    "        end\n",
    "    end\n",
    "    return x\n",
    "end\n",
    "\n",
    "loss(w,x,y)=0.5*(sum((y-predict(w,x)).^2) / size(x,2))\n",
    "\n",
    "lossgradient = grad(loss);\n",
    "\n",
    "function train(w, dtrn; lr=.5, epochs=10)\n",
    "    for epoch=1:epochs\n",
    "        for (x,y) in dtrn\n",
    "            g = lossgradient(w, x, y)\n",
    "            for i in 1:length(w)\n",
    "                axpy!(-lr, g[i], w[i])\n",
    "            end\n",
    "        end\n",
    "    end\n",
    "    return w\n",
    "end\n",
    "\n",
    "function weights(h)\n",
    "    w = Any[]\n",
    "    x = size(x_train)[1]\n",
    "    for y in vcat(h,size(y_train)[1])\n",
    "        push!(w,0.1*randn(y,x))\n",
    "        push!(w, zeros(y, 1))\n",
    "        x = y\n",
    "    end\n",
    "    return w\n",
    "end\n",
    "\n",
    "\n",
    "function accuracy(w, dtst, pred=predict)\n",
    "    s = 0\n",
    "    n = 0\n",
    "    s_resid = 0\n",
    "    yvar = var(y_test)\n",
    "    for (x, ygold) in dtst\n",
    "        ypred = pred(w, x)\n",
    "        s+= (ypred - ygold).^2\n",
    "        n+=1\n",
    "    end\n",
    "    s_tot =yvar*n\n",
    "    return (sqrt.(s/n),1-(s/s_tot))\n",
    "end"
   ]
  },
  {
   "cell_type": "code",
   "execution_count": 24,
   "metadata": {},
   "outputs": [
    {
     "name": "stdout",
     "output_type": "stream",
     "text": [
      "(0, \"Train MAE: \", ([128.922], [-3.78091]), \"Test MAE: \", ([131.422], [-3.96811]))\n",
      "(1, \"Train MAE: \", ([66.8351], [-0.284894]), \"Test MAE: \", ([69.1212], [-0.374297]))\n",
      "(2, \"Train MAE: \", ([55.7095], [0.107279]), \"Test MAE: \", ([57.0955], [0.0623036]))\n",
      "(3, \"Train MAE: \", ([54.9163], [0.132517]), \"Test MAE: \", ([56.1236], [0.0939565]))\n",
      "(4, \"Train MAE: \", ([54.6488], [0.140949]), \"Test MAE: \", ([55.6978], [0.107651]))\n",
      "(5, \"Train MAE: \", ([54.8801], [0.13366]), \"Test MAE: \", ([56.0378], [0.0967233]))\n",
      "(6, \"Train MAE: \", ([54.8677], [0.134052]), \"Test MAE: \", ([56.1357], [0.0935653]))\n",
      "(7, \"Train MAE: \", ([54.8493], [0.134633]), \"Test MAE: \", ([56.1047], [0.0945648]))\n",
      "(8, \"Train MAE: \", ([54.8238], [0.135436]), \"Test MAE: \", ([56.0654], [0.0958338]))\n",
      "(9, \"Train MAE: \", ([54.5875], [0.142874]), \"Test MAE: \", ([55.6664], [0.108658]))\n",
      "(10, \"Train MAE: \", ([54.6927], [0.139566]), \"Test MAE: \", ([55.9338], [0.100073]))\n",
      "(11, \"Train MAE: \", ([54.8336], [0.135128]), \"Test MAE: \", ([56.1551], [0.0929392]))\n",
      "(12, \"Train MAE: \", ([54.7362], [0.138197]), \"Test MAE: \", ([56.1003], [0.0947082]))\n",
      "(13, \"Train MAE: \", ([54.7532], [0.137662]), \"Test MAE: \", ([56.2016], [0.0914363]))\n",
      "(14, \"Train MAE: \", ([54.6446], [0.14108]), \"Test MAE: \", ([56.0701], [0.0956828]))\n",
      "(15, \"Train MAE: \", ([54.5484], [0.144102]), \"Test MAE: \", ([55.9959], [0.0980745]))\n"
     ]
    },
    {
     "ename": "LoadError",
     "evalue": "\u001b[91mInterruptException:\u001b[39m",
     "output_type": "error",
     "traceback": [
      "\u001b[91mInterruptException:\u001b[39m",
      "",
      "Stacktrace:",
      " [1] \u001b[1mbroadcast_c\u001b[22m\u001b[22m at \u001b[1m./broadcast.jl:310\u001b[22m\u001b[22m [inlined]",
      " [2] \u001b[1mbroadcast\u001b[22m\u001b[22m\u001b[1m(\u001b[22m\u001b[22m::Function, ::Array{Float64,2}, ::Array{Float64,2}\u001b[1m)\u001b[22m\u001b[22m at \u001b[1m/Users/Cooper/.julia/v0.6/AutoGrad/src/unfuse.jl:35\u001b[22m\u001b[22m",
      " [3] \u001b[1mpredict\u001b[22m\u001b[22m\u001b[1m(\u001b[22m\u001b[22m::Array{Any,1}, ::Array{Float64,1}\u001b[1m)\u001b[22m\u001b[22m at \u001b[1m./In[23]:4\u001b[22m\u001b[22m",
      " [4] \u001b[1maccuracy\u001b[22m\u001b[22m\u001b[1m(\u001b[22m\u001b[22m::Array{Any,1}, ::Base.Iterators.Zip2{Array{Array{Float64,1},1},Array{Float64,2}}, ::#predict\u001b[1m)\u001b[22m\u001b[22m at \u001b[1m./In[23]:47\u001b[22m\u001b[22m",
      " [5] \u001b[1m(::#report#105{Array{Any,1},Base.Iterators.Zip2{Array{Array{Float64,1},1},Array{Float64,2}},Base.Iterators.Zip2{Array{Array{Float64,1},1},Array{Float64,2}}})\u001b[22m\u001b[22m\u001b[1m(\u001b[22m\u001b[22m::Int64\u001b[1m)\u001b[22m\u001b[22m at \u001b[1m./In[24]:6\u001b[22m\u001b[22m",
      " [6] \u001b[1mmacro expansion\u001b[22m\u001b[22m at \u001b[1m./In[24]:12\u001b[22m\u001b[22m [inlined]",
      " [7] \u001b[1mmacro expansion\u001b[22m\u001b[22m at \u001b[1m./util.jl:237\u001b[22m\u001b[22m [inlined]",
      " [8] \u001b[1mmain\u001b[22m\u001b[22m\u001b[1m(\u001b[22m\u001b[22m\u001b[1m)\u001b[22m\u001b[22m at \u001b[1m./In[24]:10\u001b[22m\u001b[22m",
      " [9] \u001b[1minclude_string\u001b[22m\u001b[22m\u001b[1m(\u001b[22m\u001b[22m::String, ::String\u001b[1m)\u001b[22m\u001b[22m at \u001b[1m./loading.jl:515\u001b[22m\u001b[22m"
     ]
    }
   ],
   "source": [
    "function main()\n",
    "    hidden_layer_sizes = [50,10]\n",
    "    w = weights(hidden_layer_sizes)\n",
    "    dtrn = zip([x_train[:,i] for i in 1:size(x_train,2)],y_train)\n",
    "    dtst = zip([x_test[:,i] for i in 1:size(x_test,2)],y_test)\n",
    "    report(epoch)=println((epoch,\"Train MAE: \",accuracy(w,dtrn),\"Test MAE: \",accuracy(w,dtst)))\n",
    "    report(0)\n",
    "    epochs = 100\n",
    "    learning_rate = 0.0001\n",
    "    @time for epoch=1:epochs\n",
    "        train(w, dtrn; lr=learning_rate, epochs=1)\n",
    "        report(epoch)\n",
    "#       gradcheck(loss, w, first(dtrn)...; gcheck=o[:gcheck], verbose=true)\n",
    "    end\n",
    "    return w\n",
    "end\n",
    "\n",
    "main();"
   ]
  },
  {
   "cell_type": "code",
   "execution_count": 28,
   "metadata": {},
   "outputs": [
    {
     "data": {
      "text/plain": [
       "12-element Array{Float64,1}:\n",
       "   0.0\n",
       " 178.0\n",
       "  60.0\n",
       " 178.0\n",
       " 121.0\n",
       "  59.0\n",
       " 223.0\n",
       " 134.0\n",
       " 134.0\n",
       "  59.0\n",
       "  60.0\n",
       "  74.0"
      ]
     },
     "execution_count": 28,
     "metadata": {},
     "output_type": "execute_result"
    }
   ],
   "source": [
    "x_train[:,2]"
   ]
  },
  {
   "cell_type": "code",
   "execution_count": 29,
   "metadata": {
    "scrolled": true
   },
   "outputs": [
    {
     "data": {
      "application/vnd.jupyter.widget-view+json": {
       "model_id": "9aa4ba16-dd55-43a8-b636-e7a183595812",
       "version_major": 2,
       "version_minor": 0
      }
     },
     "metadata": {},
     "output_type": "display_data"
    },
    {
     "data": {
      "text/html": [],
      "text/plain": [
       "Interact.Options{:SelectionSlider,Int64}(9: \"input-3\" = 5 Int64 , \"i\", 5, \"5\", 5, Interact.OptionDict(DataStructures.OrderedDict(\"1\"=>1,\"2\"=>2,\"3\"=>3,\"4\"=>4,\"5\"=>5,\"6\"=>6,\"7\"=>7,\"8\"=>8,\"9\"=>9,\"10\"=>10…), Dict(7=>\"7\",4=>\"4\",9=>\"9\",10=>\"10\",2=>\"2\",3=>\"3\",5=>\"5\",8=>\"8\",6=>\"6\",1=>\"1\"…)), Any[], Any[], true, \"horizontal\")"
      ]
     },
     "metadata": {},
     "output_type": "display_data"
    },
    {
     "data": {
      "text/html": [
       "<img src=\"data:image/png;base64,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\" />"
      ]
     },
     "execution_count": 29,
     "metadata": {
      "comm_id": "a37c3ef2-93be-4d92-afae-1ce93cc26658",
      "reactive": true
     },
     "output_type": "execute_result"
    }
   ],
   "source": [
    "# Plot the trajectory\n",
    "@manipulate for i = 1:10\n",
    "plot(cumsum(x_train[:,i]))\n",
    "end\n"
   ]
  },
  {
   "cell_type": "code",
   "execution_count": 34,
   "metadata": {},
   "outputs": [
    {
     "data": {
      "text/plain": [
       "1×1 Array{Float64,2}:\n",
       " -0.00855506"
      ]
     },
     "execution_count": 34,
     "metadata": {},
     "output_type": "execute_result"
    }
   ],
   "source": [
    "hidden_layer_sizes = [20,10,1]\n",
    "w1 = weights(hidden_layer_sizes)\n",
    "x = [1 2 3 4 5 6 7 8 9 10]\n",
    "predict(w1,x')"
   ]
  },
  {
   "cell_type": "code",
   "execution_count": 30,
   "metadata": {},
   "outputs": [
    {
     "data": {
      "application/vnd.jupyter.widget-view+json": {
       "model_id": "34342072-2a8f-4c1e-a78f-a63f03e342ab",
       "version_major": 2,
       "version_minor": 0
      }
     },
     "metadata": {},
     "output_type": "display_data"
    },
    {
     "data": {
      "text/html": [],
      "text/plain": [
       "Interact.Options{:SelectionSlider,Int64}(13: \"input-4\" = 5 Int64 , \"i\", 5, \"5\", 5, Interact.OptionDict(DataStructures.OrderedDict(\"1\"=>1,\"2\"=>2,\"3\"=>3,\"4\"=>4,\"5\"=>5,\"6\"=>6,\"7\"=>7,\"8\"=>8,\"9\"=>9,\"10\"=>10…), Dict(7=>\"7\",4=>\"4\",9=>\"9\",10=>\"10\",2=>\"2\",3=>\"3\",5=>\"5\",8=>\"8\",6=>\"6\",1=>\"1\"…)), Any[], Any[], true, \"horizontal\")"
      ]
     },
     "metadata": {},
     "output_type": "display_data"
    },
    {
     "data": {
      "text/html": [
       "<img src=\"data:image/png;base64,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\" />"
      ]
     },
     "execution_count": 30,
     "metadata": {
      "comm_id": "d948259d-0a03-45d5-8114-550bd3b47aa1",
      "reactive": true
     },
     "output_type": "execute_result"
    }
   ],
   "source": [
    "@manipulate for i = 1:10\n",
    "histogram(x_train[i,:])\n",
    "end"
   ]
  },
  {
   "cell_type": "code",
   "execution_count": null,
   "metadata": {
    "collapsed": true
   },
   "outputs": [],
   "source": [
    "histogram(y_train')\n",
    "# mean(y_train)\n",
    "# sqrt(var(y_train))"
   ]
  },
  {
   "cell_type": "code",
   "execution_count": null,
   "metadata": {
    "collapsed": true
   },
   "outputs": [],
   "source": [
    "# https://arxiv.org/pdf/1407.5949.pdf\n",
    "function lstm(weight,bias,hidden,cell,input)\n",
    "    gates   = hcat(input,hidden) * weight .+ bias\n",
    "    hsize   = size(hidden,2)\n",
    "    forget  = sigm(gates[:,1:hsize])\n",
    "    ingate  = sigm(gates[:,1+hsize:2hsize])\n",
    "    outgate = sigm(gates[:,1+2hsize:3hsize])\n",
    "    change  = tanh(gates[:,1+3hsize:end])\n",
    "    cell    = cell .* forget + ingate .* change\n",
    "    hidden  = outgate .* tanh(cell)\n",
    "    return (hidden,cell)\n",
    "end\n",
    "\n",
    "function initmodel(atype, hidden, vocab, embed)\n",
    "    init(d...)=atype(xavier(d...))\n",
    "    \n",
    "    bias(d...)=atype(zeros(d...))\n",
    "    model = Array(Any, 2*length(hidden)+3)\n",
    "    X = embed\n",
    "    for k = 1:length(hidden)\n",
    "        H = hidden[k]\n",
    "        model[2k-1] = init(X+H, 4H)\n",
    "        model[2k] = bias(1, 4H)\n",
    "        model[2k][1:H] = 1 # forget gate bias = 1\n",
    "        X = H\n",
    "    end\n",
    "    model[end-2] = init(vocab,embed)\n",
    "    model[end-1] = init(hidden[end],vocab)\n",
    "    model[end] = bias(1,vocab)\n",
    "    return model\n",
    "end\n",
    "\n",
    "let blank = nothing; global initstate\n",
    "function initstate(model, batch)\n",
    "    nlayers = div(length(model)-3,2)\n",
    "    state = Array(Any, 2*nlayers)\n",
    "    for k = 1:nlayers\n",
    "        bias = model[2k]\n",
    "        hidden = div(length(bias),4)\n",
    "        if typeof(blank)!=typeof(bias) || size(blank)!=(batch,hidden)\n",
    "            blank = fill!(similar(bias, batch, hidden),0)\n",
    "        end\n",
    "        state[2k-1] = state[2k] = blank\n",
    "    end\n",
    "    return state\n",
    "end\n",
    "end\n",
    "\n",
    "function predict(model, state, input; pdrop=0)\n",
    "    nlayers = div(length(model)-3,2)\n",
    "    newstate = similar(state)\n",
    "    for k = 1:nlayers\n",
    "        input = dropout(input, pdrop)\n",
    "        \n",
    "        (newstate[2k-1],newstate[2k]) = lstm(model[2k-1],model[2k],state[2k-1],state[2k],input)\n",
    "        input = newstate[2k-1]\n",
    "    end\n",
    "    return input,newstate\n",
    "end"
   ]
  },
  {
   "cell_type": "code",
   "execution_count": null,
   "metadata": {
    "collapsed": true
   },
   "outputs": [],
   "source": []
  },
  {
   "cell_type": "code",
   "execution_count": null,
   "metadata": {
    "collapsed": true
   },
   "outputs": [],
   "source": []
  }
 ],
 "metadata": {
  "kernelspec": {
   "display_name": "Julia 0.6.0",
   "language": "julia",
   "name": "julia-0.6"
  },
  "language_info": {
   "file_extension": ".jl",
   "mimetype": "application/julia",
   "name": "julia",
   "version": "0.6.0"
  }
 },
 "nbformat": 4,
 "nbformat_minor": 2
}
