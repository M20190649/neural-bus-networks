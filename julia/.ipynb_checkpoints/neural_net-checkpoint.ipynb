{
 "cells": [
  {
   "cell_type": "code",
   "execution_count": 1,
   "metadata": {},
   "outputs": [
    {
     "data": {
      "text/html": [
       "<div id=\"interact-js-shim\">\n",
       "    <script charset=\"utf-8\">\n",
       "(function (IPython, $, _, MathJax) {\n",
       "    $.event.special.destroyed = {\n",
       "\tremove: function(o) {\n",
       "\t    if (o.handler) {\n",
       "\t\to.handler.apply(this, arguments)\n",
       "\t    }\n",
       "\t}\n",
       "    }\n",
       "\n",
       "    var OutputArea = IPython.version >= \"4.0.0\" ? require(\"notebook/js/outputarea\").OutputArea : IPython.OutputArea;\n",
       "\n",
       "    var redrawValue = function (container, type, val) {\n",
       "\tvar selector = $(\"<div/>\");\n",
       "\tvar oa = new OutputArea(_.extend(selector, {\n",
       "\t    selector: selector,\n",
       "\t    prompt_area: true,\n",
       "\t    events: IPython.events,\n",
       "\t    keyboard_manager: IPython.keyboard_manager\n",
       "\t})); // Hack to work with IPython 2.1.0\n",
       "\n",
       "\tswitch (type) {\n",
       "\tcase \"image/png\":\n",
       "            var _src = 'data:' + type + ';base64,' + val;\n",
       "\t    $(container).find(\"img\").attr('src', _src);\n",
       "\t    break;\n",
       "\tcase \"text/latex\":\n",
       "\t\tif (MathJax){\n",
       "\t\t\tvar math = MathJax.Hub.getAllJax(container)[0];\n",
       "\t\t\tMathJax.Hub.Queue([\"Text\", math, val.replace(/^\\${1,2}|\\${1,2}$/g, '')]);\n",
       "\t\t\tbreak;\n",
       "\t\t}\n",
       "\tdefault:\n",
       "\t    var toinsert = OutputArea.append_map[type].apply(\n",
       "\t\toa, [val, {}, selector]\n",
       "\t    );\n",
       "\t    $(container).empty().append(toinsert.contents());\n",
       "\t    selector.remove();\n",
       "\t}\n",
       "    }\n",
       "\n",
       "\n",
       "    $(document).ready(function() {\n",
       "\tfunction initComm(evt, data) {\n",
       "\t    var comm_manager = data.kernel.comm_manager;\n",
       "        //_.extend(comm_manager.targets, require(\"widgets/js/widget\"))\n",
       "\t    comm_manager.register_target(\"Signal\", function (comm) {\n",
       "            comm.on_msg(function (msg) {\n",
       "                var val = msg.content.data.value;\n",
       "                $(\".signal-\" + comm.comm_id).each(function() {\n",
       "                var type = $(this).data(\"type\");\n",
       "                if (typeof(val[type]) !== \"undefined\" && val[type] !== null) {\n",
       "                    redrawValue(this, type, val[type], type);\n",
       "                }\n",
       "                });\n",
       "                delete val;\n",
       "                delete msg.content.data.value;\n",
       "            });\n",
       "\t    });\n",
       "\n",
       "\t    // coordingate with Comm and redraw Signals\n",
       "\t    // XXX: Test using Reactive here to improve performance\n",
       "\t    $([IPython.events]).on(\n",
       "\t\t'output_appended.OutputArea', function (event, type, value, md, toinsert) {\n",
       "\t\t    if (md && md.reactive) {\n",
       "                // console.log(md.comm_id);\n",
       "                toinsert.addClass(\"signal-\" + md.comm_id);\n",
       "                toinsert.data(\"type\", type);\n",
       "                // Signal back indicating the mimetype required\n",
       "                var comm_manager = IPython.notebook.kernel.comm_manager;\n",
       "                var comm = comm_manager.comms[md.comm_id];\n",
       "                comm.then(function (c) {\n",
       "                    c.send({action: \"subscribe_mime\",\n",
       "                       mime: type});\n",
       "                    toinsert.bind(\"destroyed\", function() {\n",
       "                        c.send({action: \"unsubscribe_mime\",\n",
       "                               mime: type});\n",
       "                    });\n",
       "                })\n",
       "\t\t    }\n",
       "\t    });\n",
       "\t}\n",
       "\n",
       "\ttry {\n",
       "\t    // try to initialize right away. otherwise, wait on the status_started event.\n",
       "\t    initComm(undefined, IPython.notebook);\n",
       "\t} catch (e) {\n",
       "\t    $([IPython.events]).on('kernel_created.Kernel kernel_created.Session', initComm);\n",
       "\t}\n",
       "    });\n",
       "})(IPython, jQuery, _, MathJax);\n",
       "</script>\n",
       "    <script>\n",
       "        window.interactLoadedFlag = true\n",
       "       $(\"#interact-js-shim\").bind(\"destroyed\", function () {\n",
       "           if (window.interactLoadedFlag) {\n",
       "               console.warn(\"JavaScript required by Interact will be removed if you remove this cell or run using Interact more than once.\")\n",
       "           }\n",
       "       })\n",
       "       $([IPython.events]).on(\"kernel_starting.Kernel kernel_restarting.Kernel\", function () { window.interactLoadedFlag = false })\n",
       "   </script>\n",
       "</div>"
      ]
     },
     "metadata": {},
     "output_type": "display_data"
    }
   ],
   "source": [
    "using Knet,Compat,Interact,Plots;\n",
    "include(\"../julia/format_data.jl\");"
   ]
  },
  {
   "cell_type": "code",
   "execution_count": 2,
   "metadata": {
    "collapsed": true
   },
   "outputs": [],
   "source": [
    "# file, training_proportion, num_input_stops, stops_ahead_to_predict, stops_to_predict\n",
    "routes = get_routes(\"../data/full_routes.mat\",0.8,10,1,1);\n",
    "\n",
    "x_train  = routes[\"train_input_data\"];\n",
    "y_train = routes[\"train_output_data\"];\n",
    "x_test = routes[\"test_input_data\"];\n",
    "y_test = routes[\"test_output_data\"];\n",
    "\n"
   ]
  },
  {
   "cell_type": "code",
   "execution_count": 3,
   "metadata": {},
   "outputs": [
    {
     "data": {
      "text/plain": [
       "((10, 3846), (1, 3846))"
      ]
     },
     "execution_count": 3,
     "metadata": {},
     "output_type": "execute_result"
    }
   ],
   "source": [
    "#x_train = (x_train .- mean(x_train,2))./std(x_train,2)\n",
    "#x_test = (x_test .- mean(x_test,2))./std(x_test,2)\n",
    "size(x_train),\n",
    "size(y_train)"
   ]
  },
  {
   "cell_type": "code",
   "execution_count": 4,
   "metadata": {},
   "outputs": [
    {
     "data": {
      "text/plain": [
       "accuracy (generic function with 2 methods)"
      ]
     },
     "execution_count": 4,
     "metadata": {},
     "output_type": "execute_result"
    }
   ],
   "source": [
    "function predict(w,x)\n",
    "    for i=1:2:length(w)\n",
    "        # w is a vector of weight matrices\n",
    "        x = w[i]*x .+ w[i+1]\n",
    "        if i<length(w)-1\n",
    "            # Apply ReLU nonlinearity\n",
    "            x = max.(0,x)\n",
    "        end\n",
    "    end\n",
    "    return x\n",
    "end\n",
    "\n",
    "loss(w,x,y)=0.5*(sum((y-predict(w,x)).^2) / size(x,2))\n",
    "\n",
    "lossgradient = grad(loss);\n",
    "\n",
    "function train(w, dtrn; lr=.5, epochs=10)\n",
    "    for epoch=1:epochs\n",
    "        for (x,y) in dtrn\n",
    "            g = lossgradient(w, x, y)\n",
    "            for i in 1:length(w)\n",
    "                axpy!(-lr, g[i], w[i])\n",
    "            end\n",
    "        end\n",
    "    end\n",
    "    return w\n",
    "end\n",
    "\n",
    "function weights(h)\n",
    "    w = Any[]\n",
    "    x = 10\n",
    "    for y in h\n",
    "        push!(w,0.1*randn(y,x))\n",
    "        push!(w, zeros(y, 1))\n",
    "        x = y\n",
    "    end\n",
    "    return w\n",
    "end\n",
    "\n",
    "\n",
    "function accuracy(w, dtst, pred=predict)\n",
    "    s = 0\n",
    "    n = 0\n",
    "    s_resid = 0\n",
    "    yvar = var(y_test)\n",
    "    for (x, ygold) in dtst\n",
    "        ypred = pred(w, x)\n",
    "        s+= sum(abs.(ypred - ygold))\n",
    "        s_resid += (ypred - ygold).^2\n",
    "        n+=1\n",
    "    end\n",
    "    s_tot =yvar*n\n",
    "    return (s/n,1-s_resid/(s_tot))\n",
    "end"
   ]
  },
  {
   "cell_type": "code",
   "execution_count": 5,
   "metadata": {},
   "outputs": [
    {
     "name": "stdout",
     "output_type": "stream",
     "text": [
      "(0, \"Train MAE: \", (58.55400506127601, [-1.85276]), \"Test MAE: \", (58.1766333948372, [-1.8016]))\n",
      "(1, \"Train MAE: \", (NaN, [NaN]), \"Test MAE: \", (NaN, [NaN]))\n",
      "(2, \"Train MAE: \", (NaN, [NaN]), \"Test MAE: \", (NaN, [NaN]))\n",
      "(3, \"Train MAE: \", (NaN, [NaN]), \"Test MAE: \", (NaN, [NaN]))\n",
      "(4, \"Train MAE: \", (NaN, [NaN]), \"Test MAE: \", (NaN, [NaN]))\n",
      "(5, \"Train MAE: \", (NaN, [NaN]), \"Test MAE: \", (NaN, [NaN]))\n",
      " 17.597042 seconds (25.49 M allocations: 3.144 GiB, 4.03% gc time)\n"
     ]
    }
   ],
   "source": [
    "function main()\n",
    "    hidden_layer_sizes = [100,100,1]\n",
    "    w = weights(hidden_layer_sizes)\n",
    "    dtrn = zip([x_train[:,i] for i in 1:size(x_train,2)],y_train)\n",
    "    dtst = zip([x_test[:,i] for i in 1:size(x_test,2)],y_test)\n",
    "    report(epoch)=println((epoch,\"Train MAE: \",accuracy(w,dtrn),\"Test MAE: \",accuracy(w,dtst)))\n",
    "    report(0)\n",
    "    epochs = 5\n",
    "    learning_rate = 0.001\n",
    "    @time for epoch=1:epochs\n",
    "        train(w, dtrn; lr=learning_rate, epochs=1)\n",
    "        report(epoch)\n",
    "#       gradcheck(loss, w, first(dtrn)...; gcheck=o[:gcheck], verbose=true)\n",
    "    end\n",
    "    return w\n",
    "end\n",
    "\n",
    "main();"
   ]
  },
  {
   "cell_type": "code",
   "execution_count": null,
   "metadata": {
    "collapsed": true,
    "scrolled": true
   },
   "outputs": [],
   "source": [
    "@manipulate for i = 1:10\n",
    "println(x_train[:,i])\n",
    "end\n"
   ]
  },
  {
   "cell_type": "code",
   "execution_count": null,
   "metadata": {
    "collapsed": true
   },
   "outputs": [],
   "source": [
    "hidden_layer_sizes = [200,100,100,1]\n",
    "w1 = weights(hidden_layer_sizes)\n",
    "x = [1 2 3 4 5 6 7 8 9 10]\n",
    "predict(w1,x')"
   ]
  },
  {
   "cell_type": "code",
   "execution_count": null,
   "metadata": {
    "collapsed": true
   },
   "outputs": [],
   "source": [
    "@manipulate for i = 1:10\n",
    "histogram(x_train[i,:])\n",
    "end"
   ]
  },
  {
   "cell_type": "code",
   "execution_count": null,
   "metadata": {
    "collapsed": true
   },
   "outputs": [],
   "source": [
    "histogram(y_train')\n",
    "# mean(y_train)\n",
    "# sqrt(var(y_train))"
   ]
  },
  {
   "cell_type": "code",
   "execution_count": null,
   "metadata": {
    "collapsed": true
   },
   "outputs": [],
   "source": [
    "# WIP LSTM\n",
    "# https://arxiv.org/pdf/1407.5949.pdf\n",
    "function lstm(weight,bias,hidden,cell,input)\n",
    "    gates   = hcat(input,hidden) * weight .+ bias\n",
    "    hsize   = size(hidden,2)\n",
    "    forget  = sigm(gates[:,1:hsize])\n",
    "    ingate  = sigm(gates[:,1+hsize:2hsize])\n",
    "    outgate = sigm(gates[:,1+2hsize:3hsize])\n",
    "    change  = tanh(gates[:,1+3hsize:end])\n",
    "    cell    = cell .* forget + ingate .* change\n",
    "    hidden  = outgate .* tanh(cell)\n",
    "    return (hidden,cell)\n",
    "end\n",
    "\n",
    "function initmodel(atype, hidden, vocab, embed)\n",
    "    init(d...)=atype(xavier(d...))\n",
    "    \n",
    "    bias(d...)=atype(zeros(d...))\n",
    "    model = Array(Any, 2*length(hidden)+3)\n",
    "    X = embed\n",
    "    for k = 1:length(hidden)\n",
    "        H = hidden[k]\n",
    "        model[2k-1] = init(X+H, 4H)\n",
    "        model[2k] = bias(1, 4H)\n",
    "        model[2k][1:H] = 1 # forget gate bias = 1\n",
    "        X = H\n",
    "    end\n",
    "    model[end-2] = init(vocab,embed)\n",
    "    model[end-1] = init(hidden[end],vocab)\n",
    "    model[end] = bias(1,vocab)\n",
    "    return model\n",
    "end\n",
    "\n",
    "let blank = nothing; global initstate\n",
    "function initstate(model, batch)\n",
    "    nlayers = div(length(model)-3,2)\n",
    "    state = Array(Any, 2*nlayers)\n",
    "    for k = 1:nlayers\n",
    "        bias = model[2k]\n",
    "        hidden = div(length(bias),4)\n",
    "        if typeof(blank)!=typeof(bias) || size(blank)!=(batch,hidden)\n",
    "            blank = fill!(similar(bias, batch, hidden),0)\n",
    "        end\n",
    "        state[2k-1] = state[2k] = blank\n",
    "    end\n",
    "    return state\n",
    "end\n",
    "end\n",
    "\n",
    "function predict(model, state, input; pdrop=0)\n",
    "    nlayers = div(length(model)-3,2)\n",
    "    newstate = similar(state)\n",
    "    for k = 1:nlayers\n",
    "        input = dropout(input, pdrop)\n",
    "        \n",
    "        (newstate[2k-1],newstate[2k]) = lstm(model[2k-1],model[2k],state[2k-1],state[2k],input)\n",
    "        input = newstate[2k-1]\n",
    "    end\n",
    "    return input,newstate\n",
    "end"
   ]
  },
  {
   "cell_type": "code",
   "execution_count": null,
   "metadata": {
    "collapsed": true
   },
   "outputs": [],
   "source": []
  },
  {
   "cell_type": "code",
   "execution_count": null,
   "metadata": {
    "collapsed": true
   },
   "outputs": [],
   "source": []
  }
 ],
 "metadata": {
  "kernelspec": {
   "display_name": "Julia 0.6.0",
   "language": "julia",
   "name": "julia-0.6"
  },
  "language_info": {
   "file_extension": ".jl",
   "mimetype": "application/julia",
   "name": "julia",
   "version": "0.6.0"
  }
 },
 "nbformat": 4,
 "nbformat_minor": 2
}
