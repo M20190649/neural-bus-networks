{
 "cells": [
  {
   "cell_type": "code",
   "execution_count": 1,
   "metadata": {},
   "outputs": [
    {
     "data": {
      "text/html": [
       "<div id=\"interact-js-shim\">\n",
       "    <script charset=\"utf-8\">\n",
       "(function (IPython, $, _, MathJax) {\n",
       "    $.event.special.destroyed = {\n",
       "\tremove: function(o) {\n",
       "\t    if (o.handler) {\n",
       "\t\to.handler.apply(this, arguments)\n",
       "\t    }\n",
       "\t}\n",
       "    }\n",
       "\n",
       "    var OutputArea = IPython.version >= \"4.0.0\" ? require(\"notebook/js/outputarea\").OutputArea : IPython.OutputArea;\n",
       "\n",
       "    var redrawValue = function (container, type, val) {\n",
       "\tvar selector = $(\"<div/>\");\n",
       "\tvar oa = new OutputArea(_.extend(selector, {\n",
       "\t    selector: selector,\n",
       "\t    prompt_area: true,\n",
       "\t    events: IPython.events,\n",
       "\t    keyboard_manager: IPython.keyboard_manager\n",
       "\t})); // Hack to work with IPython 2.1.0\n",
       "\n",
       "\tswitch (type) {\n",
       "\tcase \"image/png\":\n",
       "            var _src = 'data:' + type + ';base64,' + val;\n",
       "\t    $(container).find(\"img\").attr('src', _src);\n",
       "\t    break;\n",
       "\tcase \"text/latex\":\n",
       "\t\tif (MathJax){\n",
       "\t\t\tvar math = MathJax.Hub.getAllJax(container)[0];\n",
       "\t\t\tMathJax.Hub.Queue([\"Text\", math, val.replace(/^\\${1,2}|\\${1,2}$/g, '')]);\n",
       "\t\t\tbreak;\n",
       "\t\t}\n",
       "\tdefault:\n",
       "\t    var toinsert = OutputArea.append_map[type].apply(\n",
       "\t\toa, [val, {}, selector]\n",
       "\t    );\n",
       "\t    $(container).empty().append(toinsert.contents());\n",
       "\t    selector.remove();\n",
       "\t}\n",
       "    }\n",
       "\n",
       "\n",
       "    $(document).ready(function() {\n",
       "\tfunction initComm(evt, data) {\n",
       "\t    var comm_manager = data.kernel.comm_manager;\n",
       "        //_.extend(comm_manager.targets, require(\"widgets/js/widget\"))\n",
       "\t    comm_manager.register_target(\"Signal\", function (comm) {\n",
       "            comm.on_msg(function (msg) {\n",
       "                var val = msg.content.data.value;\n",
       "                $(\".signal-\" + comm.comm_id).each(function() {\n",
       "                var type = $(this).data(\"type\");\n",
       "                if (typeof(val[type]) !== \"undefined\" && val[type] !== null) {\n",
       "                    redrawValue(this, type, val[type], type);\n",
       "                }\n",
       "                });\n",
       "                delete val;\n",
       "                delete msg.content.data.value;\n",
       "            });\n",
       "\t    });\n",
       "\n",
       "\t    // coordingate with Comm and redraw Signals\n",
       "\t    // XXX: Test using Reactive here to improve performance\n",
       "\t    $([IPython.events]).on(\n",
       "\t\t'output_appended.OutputArea', function (event, type, value, md, toinsert) {\n",
       "\t\t    if (md && md.reactive) {\n",
       "                // console.log(md.comm_id);\n",
       "                toinsert.addClass(\"signal-\" + md.comm_id);\n",
       "                toinsert.data(\"type\", type);\n",
       "                // Signal back indicating the mimetype required\n",
       "                var comm_manager = IPython.notebook.kernel.comm_manager;\n",
       "                var comm = comm_manager.comms[md.comm_id];\n",
       "                comm.then(function (c) {\n",
       "                    c.send({action: \"subscribe_mime\",\n",
       "                       mime: type});\n",
       "                    toinsert.bind(\"destroyed\", function() {\n",
       "                        c.send({action: \"unsubscribe_mime\",\n",
       "                               mime: type});\n",
       "                    });\n",
       "                })\n",
       "\t\t    }\n",
       "\t    });\n",
       "\t}\n",
       "\n",
       "\ttry {\n",
       "\t    // try to initialize right away. otherwise, wait on the status_started event.\n",
       "\t    initComm(undefined, IPython.notebook);\n",
       "\t} catch (e) {\n",
       "\t    $([IPython.events]).on('kernel_created.Kernel kernel_created.Session', initComm);\n",
       "\t}\n",
       "    });\n",
       "})(IPython, jQuery, _, MathJax);\n",
       "</script>\n",
       "    <script>\n",
       "        window.interactLoadedFlag = true\n",
       "       $(\"#interact-js-shim\").bind(\"destroyed\", function () {\n",
       "           if (window.interactLoadedFlag) {\n",
       "               console.warn(\"JavaScript required by Interact will be removed if you remove this cell or run using Interact more than once.\")\n",
       "           }\n",
       "       })\n",
       "       $([IPython.events]).on(\"kernel_starting.Kernel kernel_restarting.Kernel\", function () { window.interactLoadedFlag = false })\n",
       "   </script>\n",
       "</div>"
      ]
     },
     "metadata": {},
     "output_type": "display_data"
    }
   ],
   "source": [
    "using Knet,Compat,Interact,Plots;\n",
    "include(\"../julia/format_data.jl\");"
   ]
  },
  {
   "cell_type": "code",
   "execution_count": 14,
   "metadata": {},
   "outputs": [
    {
     "data": {
      "text/plain": [
       "((10, 3846), (1, 3846))"
      ]
     },
     "execution_count": 14,
     "metadata": {},
     "output_type": "execute_result"
    }
   ],
   "source": [
    "routes = get_routes(\"../data/full_routes.mat\",0.8,10,3,1);\n",
    "\n",
    "x_train  = routes[\"train_input_data\"];\n",
    "y_train = routes[\"train_output_data\"];\n",
    "x_test = routes[\"test_input_data\"];\n",
    "y_test = routes[\"test_output_data\"];\n",
    "\n",
    "x_train = (x_train .- mean(x_train,2))./std(x_train,2)\n",
    "x_test = (x_test .- mean(x_test,2))./std(x_test,2)\n",
    "size(x_train),\n",
    "size(y_train)"
   ]
  },
  {
   "cell_type": "code",
   "execution_count": 17,
   "metadata": {},
   "outputs": [
    {
     "data": {
      "text/plain": [
       "accuracy (generic function with 2 methods)"
      ]
     },
     "execution_count": 17,
     "metadata": {},
     "output_type": "execute_result"
    }
   ],
   "source": [
    "function predict(w,x)\n",
    "    for i=1:2:length(w)\n",
    "        x = w[i]*x .+ w[i+1]\n",
    "        if i<length(w)-1\n",
    "            x = max.(0,x) # max(0,x)\n",
    "        end\n",
    "    end\n",
    "    return x\n",
    "end\n",
    "\n",
    "function train(w, dtrn; lr=.5, epochs=10)\n",
    "    for epoch=1:epochs\n",
    "        for (x,y) in dtrn\n",
    "            g = lossgradient(w, x, y)\n",
    "            for i in 1:length(w)\n",
    "                axpy!(-lr, g[i], w[i])\n",
    "            end\n",
    "        end\n",
    "    end\n",
    "    return w\n",
    "end\n",
    "\n",
    "function weights(h)\n",
    "    w = Any[]\n",
    "    x = 10\n",
    "    for y in h\n",
    "        push!(w,0.1*randn(y,x))\n",
    "        push!(w, zeros(y, 1))\n",
    "        x = y\n",
    "    end\n",
    "    return w\n",
    "end\n",
    "\n",
    "loss(w,x,y)=0.5*(sum((y-predict(w,x)).^2) / size(x,2))\n",
    "\n",
    "lossgradient = grad(loss);\n",
    "\n",
    "function accuracy(w, dtst, pred=predict)\n",
    "    s = 0\n",
    "    n = 0\n",
    "    s_resid = 0\n",
    "    yvar = var(y_test)\n",
    "    for (x, ygold) in dtst\n",
    "        ypred = pred(w, x)\n",
    "        s+= sum(abs.(ypred - ygold))\n",
    "        s_resid += (ypred - ygold).^2\n",
    "        n+=1\n",
    "    end\n",
    "    s_tot =yvar*n\n",
    "    return (s/n,1-s_resid/(s_tot))\n",
    "end"
   ]
  },
  {
   "cell_type": "code",
   "execution_count": 18,
   "metadata": {},
   "outputs": [
    {
     "name": "stdout",
     "output_type": "stream",
     "text": [
      "(0, \"Train MAE: \", (66.22110655965815, [-2.63759]), \"Test MAE: \", (65.99159581613785, [-2.60513]))\n",
      "(1, \"Train MAE: \", (62.19277181107064, [-2.19782]), \"Test MAE: \", (61.99630818049812, [-2.16716]))\n",
      "(2, \"Train MAE: \", (30.27559387778492, [0.000908768]), \"Test MAE: \", (29.45812456358096, [0.02057]))\n",
      "(3, \"Train MAE: \", (29.44905332213724, [0.057558]), \"Test MAE: \", (29.02399319335768, [0.0721724]))\n",
      "(4, \"Train MAE: \", (29.463869049650675, [0.0581446]), \"Test MAE: \", (29.05141121866752, [0.0722174]))\n",
      "(5, \"Train MAE: \", (29.463401821544107, [0.0584687]), \"Test MAE: \", (29.054187811028804, [0.0723821]))\n",
      " 10.617574 seconds (18.72 M allocations: 945.982 MiB, 3.83% gc time)\n"
     ]
    }
   ],
   "source": [
    "function main()\n",
    "    hidden_layer_sizes = [10,1]\n",
    "    w = weights(hidden_layer_sizes)\n",
    "    dtrn = zip([x_train[:,i] for i in 1:size(x_train,2)],y_train)\n",
    "    dtst = zip([x_test[:,i] for i in 1:size(x_test,2)],y_test)\n",
    "    report(epoch)=println((epoch,\"Train MAE: \",accuracy(w,dtrn),\"Test MAE: \",accuracy(w,dtst)))\n",
    "    report(0)\n",
    "    epochs = 5\n",
    "    learning_rate = 0.00001\n",
    "    @time for epoch=1:epochs\n",
    "        train(w, dtrn; lr=learning_rate, epochs=1)\n",
    "        report(epoch)\n",
    "#       gradcheck(loss, w, first(dtrn)...; gcheck=o[:gcheck], verbose=true)\n",
    "    end\n",
    "    return w\n",
    "end\n",
    "\n",
    "main();"
   ]
  },
  {
   "cell_type": "code",
   "execution_count": 19,
   "metadata": {
    "scrolled": true
   },
   "outputs": [
    {
     "data": {
      "application/vnd.jupyter.widget-view+json": {
       "model_id": "58a21eec-5a84-4d6d-b246-4eae8b3c3b69",
       "version_major": 2,
       "version_minor": 0
      }
     },
     "metadata": {},
     "output_type": "display_data"
    },
    {
     "data": {
      "text/html": [],
      "text/plain": [
       "Interact.Options{:SelectionSlider,Int64}(1: \"input\" = 5 Int64 , \"i\", 5, \"5\", 5, Interact.OptionDict(DataStructures.OrderedDict(\"1\"=>1,\"2\"=>2,\"3\"=>3,\"4\"=>4,\"5\"=>5,\"6\"=>6,\"7\"=>7,\"8\"=>8,\"9\"=>9,\"10\"=>10…), Dict(7=>\"7\",4=>\"4\",9=>\"9\",10=>\"10\",2=>\"2\",3=>\"3\",5=>\"5\",8=>\"8\",6=>\"6\",1=>\"1\"…)), Any[], Any[], true, \"horizontal\")"
      ]
     },
     "metadata": {},
     "output_type": "display_data"
    },
    {
     "name": "stdout",
     "output_type": "stream",
     "text": [
      "[-0.657984, 1.51537, 0.33143, 2.42797, -1.00717, -1.22696, 1.70555, 2.80065, 0.136225, 0.336387]\n"
     ]
    },
    {
     "data": {
      "text/plain": [
       "nothing"
      ]
     },
     "execution_count": 19,
     "metadata": {
      "comm_id": "76a97f33-3dd4-4986-9913-fa55684682bd",
      "reactive": true
     },
     "output_type": "execute_result"
    }
   ],
   "source": [
    "@manipulate for i = 1:10\n",
    "println(x_train[:,i])\n",
    "end\n"
   ]
  },
  {
   "cell_type": "code",
   "execution_count": 20,
   "metadata": {},
   "outputs": [
    {
     "data": {
      "text/plain": [
       "1×1 Array{Float64,2}:\n",
       " 0.221579"
      ]
     },
     "execution_count": 20,
     "metadata": {},
     "output_type": "execute_result"
    }
   ],
   "source": [
    "hidden_layer_sizes = [200,100,100,1]\n",
    "w1 = weights(hidden_layer_sizes)\n",
    "x = [1 2 3 4 5 6 7 8 9 10]\n",
    "predict(w1,x')"
   ]
  },
  {
   "cell_type": "code",
   "execution_count": 21,
   "metadata": {},
   "outputs": [
    {
     "data": {
      "application/vnd.jupyter.widget-view+json": {
       "model_id": "91f6e5c0-30f8-40bd-a2f3-83c63f737895",
       "version_major": 2,
       "version_minor": 0
      }
     },
     "metadata": {},
     "output_type": "display_data"
    },
    {
     "data": {
      "text/html": [],
      "text/plain": [
       "Interact.Options{:SelectionSlider,Int64}(5: \"input-2\" = 5 Int64 , \"i\", 5, \"5\", 5, Interact.OptionDict(DataStructures.OrderedDict(\"1\"=>1,\"2\"=>2,\"3\"=>3,\"4\"=>4,\"5\"=>5,\"6\"=>6,\"7\"=>7,\"8\"=>8,\"9\"=>9,\"10\"=>10…), Dict(7=>\"7\",4=>\"4\",9=>\"9\",10=>\"10\",2=>\"2\",3=>\"3\",5=>\"5\",8=>\"8\",6=>\"6\",1=>\"1\"…)), Any[], Any[], true, \"horizontal\")"
      ]
     },
     "metadata": {},
     "output_type": "display_data"
    },
    {
     "data": {
      "text/html": [
       "<img src=\"data:image/png;base64,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\" />"
      ]
     },
     "execution_count": 21,
     "metadata": {
      "comm_id": "04544cbb-5109-4e41-9933-91ac062ec8ea",
      "reactive": true
     },
     "output_type": "execute_result"
    }
   ],
   "source": [
    "@manipulate for i = 1:10\n",
    "histogram(x_train[i,:])\n",
    "end"
   ]
  },
  {
   "cell_type": "code",
   "execution_count": 27,
   "metadata": {},
   "outputs": [
    {
     "data": {
      "text/html": [
       "<img src=\"data:image/png;base64,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\" />"
      ]
     },
     "execution_count": 27,
     "metadata": {},
     "output_type": "execute_result"
    }
   ],
   "source": [
    "histogram(y_train')\n",
    "# mean(y_train)\n",
    "# sqrt(var(y_train))"
   ]
  },
  {
   "cell_type": "code",
   "execution_count": null,
   "metadata": {
    "collapsed": true
   },
   "outputs": [],
   "source": []
  }
 ],
 "metadata": {
  "kernelspec": {
   "display_name": "Julia 0.6.0",
   "language": "julia",
   "name": "julia-0.6"
  },
  "language_info": {
   "file_extension": ".jl",
   "mimetype": "application/julia",
   "name": "julia",
   "version": "0.6.0"
  }
 },
 "nbformat": 4,
 "nbformat_minor": 2
}
