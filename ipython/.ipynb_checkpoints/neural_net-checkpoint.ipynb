{
 "cells": [
  {
   "cell_type": "code",
   "execution_count": 1,
   "metadata": {},
   "outputs": [
    {
     "data": {
      "text/html": [
       "<div id=\"interact-js-shim\">\n",
       "    <script charset=\"utf-8\">\n",
       "(function (IPython, $, _, MathJax) {\n",
       "    $.event.special.destroyed = {\n",
       "\tremove: function(o) {\n",
       "\t    if (o.handler) {\n",
       "\t\to.handler.apply(this, arguments)\n",
       "\t    }\n",
       "\t}\n",
       "    }\n",
       "\n",
       "    var OutputArea = IPython.version >= \"4.0.0\" ? require(\"notebook/js/outputarea\").OutputArea : IPython.OutputArea;\n",
       "\n",
       "    var redrawValue = function (container, type, val) {\n",
       "\tvar selector = $(\"<div/>\");\n",
       "\tvar oa = new OutputArea(_.extend(selector, {\n",
       "\t    selector: selector,\n",
       "\t    prompt_area: true,\n",
       "\t    events: IPython.events,\n",
       "\t    keyboard_manager: IPython.keyboard_manager\n",
       "\t})); // Hack to work with IPython 2.1.0\n",
       "\n",
       "\tswitch (type) {\n",
       "\tcase \"image/png\":\n",
       "            var _src = 'data:' + type + ';base64,' + val;\n",
       "\t    $(container).find(\"img\").attr('src', _src);\n",
       "\t    break;\n",
       "\tcase \"text/latex\":\n",
       "\t\tif (MathJax){\n",
       "\t\t\tvar math = MathJax.Hub.getAllJax(container)[0];\n",
       "\t\t\tMathJax.Hub.Queue([\"Text\", math, val.replace(/^\\${1,2}|\\${1,2}$/g, '')]);\n",
       "\t\t\tbreak;\n",
       "\t\t}\n",
       "\tdefault:\n",
       "\t    var toinsert = OutputArea.append_map[type].apply(\n",
       "\t\toa, [val, {}, selector]\n",
       "\t    );\n",
       "\t    $(container).empty().append(toinsert.contents());\n",
       "\t    selector.remove();\n",
       "\t}\n",
       "    }\n",
       "\n",
       "\n",
       "    $(document).ready(function() {\n",
       "\tfunction initComm(evt, data) {\n",
       "\t    var comm_manager = data.kernel.comm_manager;\n",
       "        //_.extend(comm_manager.targets, require(\"widgets/js/widget\"))\n",
       "\t    comm_manager.register_target(\"Signal\", function (comm) {\n",
       "            comm.on_msg(function (msg) {\n",
       "                var val = msg.content.data.value;\n",
       "                $(\".signal-\" + comm.comm_id).each(function() {\n",
       "                var type = $(this).data(\"type\");\n",
       "                if (typeof(val[type]) !== \"undefined\" && val[type] !== null) {\n",
       "                    redrawValue(this, type, val[type], type);\n",
       "                }\n",
       "                });\n",
       "                delete val;\n",
       "                delete msg.content.data.value;\n",
       "            });\n",
       "\t    });\n",
       "\n",
       "\t    // coordingate with Comm and redraw Signals\n",
       "\t    // XXX: Test using Reactive here to improve performance\n",
       "\t    $([IPython.events]).on(\n",
       "\t\t'output_appended.OutputArea', function (event, type, value, md, toinsert) {\n",
       "\t\t    if (md && md.reactive) {\n",
       "                // console.log(md.comm_id);\n",
       "                toinsert.addClass(\"signal-\" + md.comm_id);\n",
       "                toinsert.data(\"type\", type);\n",
       "                // Signal back indicating the mimetype required\n",
       "                var comm_manager = IPython.notebook.kernel.comm_manager;\n",
       "                var comm = comm_manager.comms[md.comm_id];\n",
       "                comm.then(function (c) {\n",
       "                    c.send({action: \"subscribe_mime\",\n",
       "                       mime: type});\n",
       "                    toinsert.bind(\"destroyed\", function() {\n",
       "                        c.send({action: \"unsubscribe_mime\",\n",
       "                               mime: type});\n",
       "                    });\n",
       "                })\n",
       "\t\t    }\n",
       "\t    });\n",
       "\t}\n",
       "\n",
       "\ttry {\n",
       "\t    // try to initialize right away. otherwise, wait on the status_started event.\n",
       "\t    initComm(undefined, IPython.notebook);\n",
       "\t} catch (e) {\n",
       "\t    $([IPython.events]).on('kernel_created.Kernel kernel_created.Session', initComm);\n",
       "\t}\n",
       "    });\n",
       "})(IPython, jQuery, _, MathJax);\n",
       "</script>\n",
       "    <script>\n",
       "        window.interactLoadedFlag = true\n",
       "       $(\"#interact-js-shim\").bind(\"destroyed\", function () {\n",
       "           if (window.interactLoadedFlag) {\n",
       "               console.warn(\"JavaScript required by Interact will be removed if you remove this cell or run using Interact more than once.\")\n",
       "           }\n",
       "       })\n",
       "       $([IPython.events]).on(\"kernel_starting.Kernel kernel_restarting.Kernel\", function () { window.interactLoadedFlag = false })\n",
       "   </script>\n",
       "</div>"
      ]
     },
     "metadata": {},
     "output_type": "display_data"
    }
   ],
   "source": [
    "using Knet,Compat,Interact,Plots;\n",
    "include(\"../julia/format_data.jl\");"
   ]
  },
  {
   "cell_type": "code",
   "execution_count": 2,
   "metadata": {
    "collapsed": true
   },
   "outputs": [],
   "source": [
    "# file, training_proportion, num_input_stops, stops_ahead_to_predict, stops_to_predict\n",
    "routes = get_routes(\"../data/full_routes.mat\",0.8,10,1,1);\n",
    "\n",
    "x_train  = routes[\"train_input_data\"];\n",
    "y_train = routes[\"train_output_data\"];\n",
    "x_test = routes[\"test_input_data\"];\n",
    "y_test = routes[\"test_output_data\"];\n",
    "\n"
   ]
  },
  {
   "cell_type": "code",
   "execution_count": 3,
   "metadata": {},
   "outputs": [
    {
     "data": {
      "application/vnd.jupyter.widget-view+json": {
       "model_id": "82f7f29d-20b0-4d9f-9ca3-335a04a4b94f",
       "version_major": 2,
       "version_minor": 0
      }
     },
     "metadata": {},
     "output_type": "display_data"
    },
    {
     "data": {
      "text/html": [],
      "text/plain": [
       "Interact.Options{:SelectionSlider,Int64}(1: \"input\" = 481 Int64 , \"i\", 481, \"481\", 481, Interact.OptionDict(DataStructures.OrderedDict(\"1\"=>1,\"2\"=>2,\"3\"=>3,\"4\"=>4,\"5\"=>5,\"6\"=>6,\"7\"=>7,\"8\"=>8,\"9\"=>9,\"10\"=>10…), Dict(306=>\"306\",29=>\"29\",74=>\"74\",905=>\"905\",176=>\"176\",892=>\"892\",285=>\"285\",318=>\"318\",873=>\"873\",354=>\"354\"…)), Any[], Any[], true, \"horizontal\")"
      ]
     },
     "metadata": {},
     "output_type": "display_data"
    },
    {
     "data": {
      "text/html": [
       "<img src=\"data:image/png;base64,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\" />"
      ]
     },
     "execution_count": 3,
     "metadata": {
      "comm_id": "a54a660f-9054-4541-8292-ba620c802372",
      "reactive": true
     },
     "output_type": "execute_result"
    }
   ],
   "source": [
    "@manipulate for i = 1:size(x_test)[2]\n",
    "    plot(1:10,(x_test[:,i]),y_lims=(0,200))\n",
    "end"
   ]
  },
  {
   "cell_type": "code",
   "execution_count": 4,
   "metadata": {},
   "outputs": [
    {
     "data": {
      "text/plain": [
       "((10, 3846), (1, 3846))"
      ]
     },
     "execution_count": 4,
     "metadata": {},
     "output_type": "execute_result"
    }
   ],
   "source": [
    "\n",
    "x_train = (x_train .- mean(x_train,2))./std(x_train,2)\n",
    "x_test = (x_test .- mean(x_test,2))./std(x_test,2)\n",
    "size(x_train),\n",
    "size(y_train)"
   ]
  },
  {
   "cell_type": "code",
   "execution_count": 5,
   "metadata": {},
   "outputs": [
    {
     "data": {
      "text/plain": [
       "accuracy (generic function with 2 methods)"
      ]
     },
     "execution_count": 5,
     "metadata": {},
     "output_type": "execute_result"
    }
   ],
   "source": [
    "function predict(w,x)\n",
    "    for i=1:2:length(w)\n",
    "        # w is a vector of weight matrices\n",
    "        x = w[i]*x .+ w[i+1]\n",
    "        if i<length(w)-1\n",
    "            # Apply ReLU nonlinearity\n",
    "            x = max.(0,x)\n",
    "        end\n",
    "    end\n",
    "    return x\n",
    "end\n",
    "\n",
    "loss(w,x,y)=0.5*(sum((y-predict(w,x)).^2) / size(x,2))\n",
    "\n",
    "lossgradient = grad(loss);\n",
    "\n",
    "function train(w, dtrn; lr=.5, epochs=10)\n",
    "    for epoch=1:epochs\n",
    "        for (x,y) in dtrn\n",
    "            g = lossgradient(w, x, y)\n",
    "            for i in 1:length(w)\n",
    "                axpy!(-lr, g[i], w[i])\n",
    "            end\n",
    "        end\n",
    "    end\n",
    "    return w\n",
    "end\n",
    "\n",
    "function weights(h)\n",
    "    w = Any[]\n",
    "    x = 10\n",
    "    for y in h\n",
    "        push!(w,0.1*randn(y,x))\n",
    "        push!(w, zeros(y, 1))\n",
    "        x = y\n",
    "    end\n",
    "    return w\n",
    "end\n",
    "\n",
    "\n",
    "function accuracy(w, dtst, pred=predict)\n",
    "    s = 0\n",
    "    n = 0\n",
    "    s_resid = 0\n",
    "    yvar = var(y_test)\n",
    "    for (x, ygold) in dtst\n",
    "        ypred = pred(w, x)\n",
    "        s+= sum(abs.(ypred - ygold))\n",
    "        s_resid += (ypred - ygold).^2\n",
    "        n+=1\n",
    "    end\n",
    "    s_tot =yvar*n\n",
    "    return (s/n,1-s_resid/(s_tot))\n",
    "end"
   ]
  },
  {
   "cell_type": "code",
   "execution_count": null,
   "metadata": {},
   "outputs": [],
   "source": [
    "function main()\n",
    "    hidden_layer_sizes = [100,100,1]\n",
    "    w = weights(hidden_layer_sizes)\n",
    "    dtrn = zip([x_train[:,i] for i in 1:size(x_train,2)],y_train)\n",
    "    dtst = zip([x_test[:,i] for i in 1:size(x_test,2)],y_test)\n",
    "    report(epoch)=println((epoch,\"Train MAE: \",accuracy(w,dtrn),\"Test MAE: \",accuracy(w,dtst)))\n",
    "    report(0)\n",
    "    epochs = 5\n",
    "    learning_rate = 0.001\n",
    "    @time for epoch=1:epochs\n",
    "        train(w, dtrn; lr=learning_rate, epochs=1)\n",
    "        report(epoch)\n",
    "#       gradcheck(loss, w, first(dtrn)...; gcheck=o[:gcheck], verbose=true)\n",
    "    end\n",
    "    return w\n",
    "end\n",
    "\n",
    "main();"
   ]
  },
  {
   "cell_type": "code",
   "execution_count": 31,
   "metadata": {
    "scrolled": true
   },
   "outputs": [
    {
     "data": {
      "application/vnd.jupyter.widget-view+json": {
       "model_id": "816b9204-f14a-4dcc-be65-79a554787b5f",
       "version_major": 2,
       "version_minor": 0
      }
     },
     "metadata": {},
     "output_type": "display_data"
    },
    {
     "data": {
      "text/html": [],
      "text/plain": [
       "Interact.Options{:SelectionSlider,Int64}(9: \"input-3\" = 5 Int64 , \"i\", 5, \"5\", 5, Interact.OptionDict(DataStructures.OrderedDict(\"1\"=>1,\"2\"=>2,\"3\"=>3,\"4\"=>4,\"5\"=>5,\"6\"=>6,\"7\"=>7,\"8\"=>8,\"9\"=>9,\"10\"=>10…), Dict(7=>\"7\",4=>\"4\",9=>\"9\",10=>\"10\",2=>\"2\",3=>\"3\",5=>\"5\",8=>\"8\",6=>\"6\",1=>\"1\"…)), Any[], Any[], true, \"horizontal\")"
      ]
     },
     "metadata": {},
     "output_type": "display_data"
    },
    {
     "name": "stdout",
     "output_type": "stream",
     "text": [
      "[-0.657984, 1.51537, 0.33143, 2.42797, -1.00717, -1.22696, 1.70555, 2.80065, 0.136225, 0.336387]\n"
     ]
    },
    {
     "data": {
      "text/plain": [
       "nothing"
      ]
     },
     "execution_count": 31,
     "metadata": {
      "comm_id": "9e20b742-5f0a-46c8-8811-c5e9520d91c6",
      "reactive": true
     },
     "output_type": "execute_result"
    },
    {
     "name": "stdout",
     "output_type": "stream",
     "text": [
      "[-0.657984, 1.58022, 0.0144131, 0.350311, 0.931417, -1.18599, -0.68125, 1.20387, -0.32611, -0.787399]\n"
     ]
    }
   ],
   "source": [
    "@manipulate for i = 1:10\n",
    "println(x_train[:,i])\n",
    "end\n"
   ]
  },
  {
   "cell_type": "code",
   "execution_count": 20,
   "metadata": {},
   "outputs": [
    {
     "data": {
      "text/plain": [
       "1×1 Array{Float64,2}:\n",
       " 0.221579"
      ]
     },
     "execution_count": 20,
     "metadata": {},
     "output_type": "execute_result"
    }
   ],
   "source": [
    "hidden_layer_sizes = [200,100,100,1]\n",
    "w1 = weights(hidden_layer_sizes)\n",
    "x = [1 2 3 4 5 6 7 8 9 10]\n",
    "predict(w1,x')"
   ]
  },
  {
   "cell_type": "code",
   "execution_count": 32,
   "metadata": {},
   "outputs": [
    {
     "data": {
      "application/vnd.jupyter.widget-view+json": {
       "model_id": "6e431412-6043-437f-bb8e-21023c375335",
       "version_major": 2,
       "version_minor": 0
      }
     },
     "metadata": {},
     "output_type": "display_data"
    },
    {
     "data": {
      "text/html": [],
      "text/plain": [
       "Interact.Options{:SelectionSlider,Int64}(43: \"input-12\" = 5 Int64 , \"i\", 5, \"5\", 5, Interact.OptionDict(DataStructures.OrderedDict(\"1\"=>1,\"2\"=>2,\"3\"=>3,\"4\"=>4,\"5\"=>5,\"6\"=>6,\"7\"=>7,\"8\"=>8,\"9\"=>9,\"10\"=>10…), Dict(7=>\"7\",4=>\"4\",9=>\"9\",10=>\"10\",2=>\"2\",3=>\"3\",5=>\"5\",8=>\"8\",6=>\"6\",1=>\"1\"…)), Any[], Any[], true, \"horizontal\")"
      ]
     },
     "metadata": {},
     "output_type": "display_data"
    },
    {
     "data": {
      "text/html": [
       "<img src=\"data:image/png;base64,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\" />"
      ]
     },
     "execution_count": 32,
     "metadata": {
      "comm_id": "51ade006-0a70-49db-9e1b-a4dfdc49af9e",
      "reactive": true
     },
     "output_type": "execute_result"
    }
   ],
   "source": [
    "@manipulate for i = 1:10\n",
    "histogram(x_train[i,:])\n",
    "end"
   ]
  },
  {
   "cell_type": "code",
   "execution_count": 2,
   "metadata": {},
   "outputs": [
    {
     "ename": "LoadError",
     "evalue": "\u001b[91mUndefVarError: histogram not defined\u001b[39m",
     "output_type": "error",
     "traceback": [
      "\u001b[91mUndefVarError: histogram not defined\u001b[39m",
      "",
      "Stacktrace:",
      " [1] \u001b[1minclude_string\u001b[22m\u001b[22m\u001b[1m(\u001b[22m\u001b[22m::String, ::String\u001b[1m)\u001b[22m\u001b[22m at \u001b[1m./loading.jl:515\u001b[22m\u001b[22m"
     ]
    }
   ],
   "source": [
    "histogram(y_train')\n",
    "# mean(y_train)\n",
    "# sqrt(var(y_train))"
   ]
  },
  {
   "cell_type": "code",
   "execution_count": 1,
   "metadata": {},
   "outputs": [
    {
     "data": {
      "text/plain": [
       "predict (generic function with 1 method)"
      ]
     },
     "execution_count": 1,
     "metadata": {},
     "output_type": "execute_result"
    }
   ],
   "source": [
    "# https://arxiv.org/pdf/1407.5949.pdf\n",
    "function lstm(weight,bias,hidden,cell,input)\n",
    "    gates   = hcat(input,hidden) * weight .+ bias\n",
    "    hsize   = size(hidden,2)\n",
    "    forget  = sigm(gates[:,1:hsize])\n",
    "    ingate  = sigm(gates[:,1+hsize:2hsize])\n",
    "    outgate = sigm(gates[:,1+2hsize:3hsize])\n",
    "    change  = tanh(gates[:,1+3hsize:end])\n",
    "    cell    = cell .* forget + ingate .* change\n",
    "    hidden  = outgate .* tanh(cell)\n",
    "    return (hidden,cell)\n",
    "end\n",
    "\n",
    "function initmodel(atype, hidden, vocab, embed)\n",
    "    init(d...)=atype(xavier(d...))\n",
    "    \n",
    "    bias(d...)=atype(zeros(d...))\n",
    "    model = Array(Any, 2*length(hidden)+3)\n",
    "    X = embed\n",
    "    for k = 1:length(hidden)\n",
    "        H = hidden[k]\n",
    "        model[2k-1] = init(X+H, 4H)\n",
    "        model[2k] = bias(1, 4H)\n",
    "        model[2k][1:H] = 1 # forget gate bias = 1\n",
    "        X = H\n",
    "    end\n",
    "    model[end-2] = init(vocab,embed)\n",
    "    model[end-1] = init(hidden[end],vocab)\n",
    "    model[end] = bias(1,vocab)\n",
    "    return model\n",
    "end\n",
    "\n",
    "let blank = nothing; global initstate\n",
    "function initstate(model, batch)\n",
    "    nlayers = div(length(model)-3,2)\n",
    "    state = Array(Any, 2*nlayers)\n",
    "    for k = 1:nlayers\n",
    "        bias = model[2k]\n",
    "        hidden = div(length(bias),4)\n",
    "        if typeof(blank)!=typeof(bias) || size(blank)!=(batch,hidden)\n",
    "            blank = fill!(similar(bias, batch, hidden),0)\n",
    "        end\n",
    "        state[2k-1] = state[2k] = blank\n",
    "    end\n",
    "    return state\n",
    "end\n",
    "end\n",
    "\n",
    "function predict(model, state, input; pdrop=0)\n",
    "    nlayers = div(length(model)-3,2)\n",
    "    newstate = similar(state)\n",
    "    for k = 1:nlayers\n",
    "        input = dropout(input, pdrop)\n",
    "        \n",
    "        (newstate[2k-1],newstate[2k]) = lstm(model[2k-1],model[2k],state[2k-1],state[2k],input)\n",
    "        input = newstate[2k-1]\n",
    "    end\n",
    "    return input,newstate\n",
    "end"
   ]
  },
  {
   "cell_type": "code",
   "execution_count": 21,
   "metadata": {},
   "outputs": [
    {
     "data": {
      "text/plain": [
       "2-element Array{Float64,1}:\n",
       " 0.0\n",
       " 0.0"
      ]
     },
     "execution_count": 21,
     "metadata": {},
     "output_type": "execute_result"
    }
   ],
   "source": [
    "dropout([1.0,2.0],0.5)"
   ]
  },
  {
   "cell_type": "code",
   "execution_count": null,
   "metadata": {
    "collapsed": true
   },
   "outputs": [],
   "source": []
  }
 ],
 "metadata": {
  "kernelspec": {
   "display_name": "Julia 0.6.0",
   "language": "julia",
   "name": "julia-0.6"
  },
  "language_info": {
   "file_extension": ".jl",
   "mimetype": "application/julia",
   "name": "julia",
   "version": "0.6.0"
  }
 },
 "nbformat": 4,
 "nbformat_minor": 2
}
